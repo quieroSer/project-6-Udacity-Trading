{
 "cells": [
  {
   "cell_type": "markdown",
   "metadata": {},
   "source": [
    "# Project 6: Analyzing Stock Sentiment from Twits\n",
    "## Instructions\n",
    "Each problem consists of a function to implement and instructions on how to implement the function.  The parts of the function that need to be implemented are marked with a `# TODO` comment.\n",
    "\n",
    "## Packages\n",
    "When you implement the functions, you'll only need to you use the packages you've used in the classroom, like [Pandas](https://pandas.pydata.org/) and [Numpy](http://www.numpy.org/). These packages will be imported for you. We recommend you don't add any import statements, otherwise the grader might not be able to run your code.\n",
    "\n",
    "### Load Packages"
   ]
  },
  {
   "cell_type": "code",
   "execution_count": 1,
   "metadata": {},
   "outputs": [],
   "source": [
    "import json\n",
    "import nltk\n",
    "import os\n",
    "import random\n",
    "import re\n",
    "import torch\n",
    "\n",
    "from torch import nn, optim\n",
    "import torch.nn.functional as F"
   ]
  },
  {
   "cell_type": "markdown",
   "metadata": {},
   "source": [
    "## Introduction\n",
    "When deciding the value of a company, it's important to follow the news. For example, a product recall or natural disaster in a company's product chain. You want to be able to turn this information into a signal. Currently, the best tool for the job is a Neural Network. \n",
    "\n",
    "For this project, you'll use posts from the social media site [StockTwits](https://en.wikipedia.org/wiki/StockTwits). The community on StockTwits is full of investors, traders, and entrepreneurs. Each message posted is called a Twit. This is similar to Twitter's version of a post, called a Tweet. You'll build a model around these twits that generate a sentiment score.\n",
    "\n",
    "We've collected a bunch of twits, then hand labeled the sentiment of each. To capture the degree of sentiment, we'll use a five-point scale: very negative, negative, neutral, positive, very positive. Each twit is labeled -2 to 2 in steps of 1, from very negative to very positive respectively. You'll build a sentiment analysis model that will learn to assign sentiment to twits on its own, using this labeled data.\n",
    "\n",
    "The first thing we should to do, is load the data.\n",
    "\n",
    "## Import Twits \n",
    "### Load Twits Data \n",
    "This JSON file contains a list of objects for each twit in the `'data'` field:\n",
    "\n",
    "```\n",
    "{'data':\n",
    "  {'message_body': 'Neutral twit body text here',\n",
    "   'sentiment': 0},\n",
    "  {'message_body': 'Happy twit body text here',\n",
    "   'sentiment': 1},\n",
    "   ...\n",
    "}\n",
    "```\n",
    "\n",
    "The fields represent the following:\n",
    "\n",
    "* `'message_body'`: The text of the twit.\n",
    "* `'sentiment'`: Sentiment score for the twit, ranges from -2 to 2 in steps of 1, with 0 being neutral.\n",
    "\n",
    "\n",
    "To see what the data look like by printing the first 10 twits from the list. "
   ]
  },
  {
   "cell_type": "code",
   "execution_count": 2,
   "metadata": {},
   "outputs": [
    {
     "name": "stdout",
     "output_type": "stream",
     "text": [
      "[{'message_body': '$FITB great buy at 26.00...ill wait', 'sentiment': 2, 'timestamp': '2018-07-01T00:00:09Z'}, {'message_body': '@StockTwits $MSFT', 'sentiment': 1, 'timestamp': '2018-07-01T00:00:42Z'}, {'message_body': '#STAAnalystAlert for $TDG : Jefferies Maintains with a rating of Hold setting target price at USD 350.00. Our own verdict is Buy  http://www.stocktargetadvisor.com/toprating', 'sentiment': 2, 'timestamp': '2018-07-01T00:01:24Z'}, {'message_body': '$AMD I heard there’s a guy who knows someone who thinks somebody knows something - on StockTwits.', 'sentiment': 1, 'timestamp': '2018-07-01T00:01:47Z'}, {'message_body': '$AMD reveal yourself!', 'sentiment': 0, 'timestamp': '2018-07-01T00:02:13Z'}, {'message_body': '$AAPL Why the drop? I warren Buffet taking out his position?', 'sentiment': 1, 'timestamp': '2018-07-01T00:03:10Z'}, {'message_body': '$BA bears have 1 reason on 06-29 to pay more attention https://dividendbot.com?s=BA', 'sentiment': -2, 'timestamp': '2018-07-01T00:04:09Z'}, {'message_body': '$BAC ok good we&#39;re not dropping in price over the weekend, lol', 'sentiment': 1, 'timestamp': '2018-07-01T00:04:17Z'}, {'message_body': '$AMAT - Daily Chart, we need to get back to above 50.', 'sentiment': 2, 'timestamp': '2018-07-01T00:08:01Z'}, {'message_body': '$GME 3% drop per week after spike... if no news in 3 months, back to 12s... if BO, then bingo... what is the odds?', 'sentiment': -2, 'timestamp': '2018-07-01T00:09:03Z'}]\n"
     ]
    }
   ],
   "source": [
    "with open(os.path.join('..', '..', 'data', 'project_6_stocktwits', 'twits.json'), 'r') as f:\n",
    "    twits = json.load(f)\n",
    "\n",
    "print(twits['data'][:10])"
   ]
  },
  {
   "cell_type": "markdown",
   "metadata": {},
   "source": [
    "### Length of Data\n",
    "Now let's look at the number of twits in dataset. Print the number of twits below."
   ]
  },
  {
   "cell_type": "code",
   "execution_count": 3,
   "metadata": {},
   "outputs": [
    {
     "name": "stdout",
     "output_type": "stream",
     "text": [
      "1548010\n"
     ]
    }
   ],
   "source": [
    "\"\"\"print out the number of twits\"\"\"\n",
    "\n",
    "# TODO Implement \n",
    "print(len(twits['data']))\n",
    "\n"
   ]
  },
  {
   "cell_type": "markdown",
   "metadata": {},
   "source": [
    "### Split Message Body and Sentiment Score"
   ]
  },
  {
   "cell_type": "code",
   "execution_count": 4,
   "metadata": {},
   "outputs": [
    {
     "name": "stdout",
     "output_type": "stream",
     "text": [
      "[4, 3, 4, 3, 2, 3, 0, 3, 4, 0]\n"
     ]
    }
   ],
   "source": [
    "messages = [twit['message_body'] for twit in twits['data']]\n",
    "# Since the sentiment scores are discrete, we'll scale the sentiments to 0 to 4 for use in our network\n",
    "sentiments = [twit['sentiment'] + 2 for twit in twits['data']]\n",
    "print(sentiments[:10])"
   ]
  },
  {
   "cell_type": "markdown",
   "metadata": {},
   "source": [
    "## Preprocessing the Data\n",
    "With our data in hand we need to preprocess our text. These twits are collected by filtering on ticker symbols where these are denoted with a leader $ symbol in the twit itself. For example,\n",
    "\n",
    "`{'message_body': 'RT @google Our annual look at the year in Google blogging (and beyond) http://t.co/sptHOAh8 $GOOG',\n",
    " 'sentiment': 0}`\n",
    "\n",
    "The ticker symbols don't provide information on the sentiment, and they are in every twit, so we should remove them. This twit also has the `@google` username, again not providing sentiment information, so we should also remove it. We also see a URL `http://t.co/sptHOAh8`. Let's remove these too.\n",
    "\n",
    "The easiest way to remove specific words or phrases is with regex using the `re` module. You can sub out specific patterns with a space:\n",
    "\n",
    "```python\n",
    "re.sub(pattern, ' ', text)\n",
    "```\n",
    "This will substitute a space with anywhere the pattern matches in the text. Later when we tokenize the text, we'll split appropriately on those spaces."
   ]
  },
  {
   "cell_type": "markdown",
   "metadata": {},
   "source": [
    "### Pre-Processing"
   ]
  },
  {
   "cell_type": "code",
   "execution_count": 5,
   "metadata": {},
   "outputs": [
    {
     "name": "stdout",
     "output_type": "stream",
     "text": [
      "[nltk_data] Downloading package wordnet to /root/nltk_data...\n"
     ]
    }
   ],
   "source": [
    "nltk.download('wordnet')\n",
    "from nltk.stem.wordnet import WordNetLemmatizer\n",
    "\n",
    "def preprocess(message):\n",
    "    \"\"\"\n",
    "    This function takes a string as input, then performs these operations: \n",
    "        - lowercase\n",
    "        - remove URLs\n",
    "        - remove ticker symbols \n",
    "        - removes punctuation\n",
    "        - tokenize by splitting the string on whitespace \n",
    "        - removes any single character tokens\n",
    "    \n",
    "    Parameters\n",
    "    ----------\n",
    "        message : The text message to be preprocessed.\n",
    "        \n",
    "    Returns\n",
    "    -------\n",
    "        tokens: The preprocessed text into tokens.\n",
    "    \"\"\" \n",
    "    #TODO: Implement \n",
    "    \n",
    "    # Lowercase the twit message\n",
    "    text = message.lower()\n",
    "    \n",
    "    # Replace URLs with a space in the message\n",
    "    text = re.sub(r'https?:\\/\\/\\S+', ' ', text)\n",
    "    \n",
    "    # Replace ticker symbols with a space. The ticker symbols are any stock symbol that starts with $.\n",
    "    text = re.sub(r'\\$\\S+', ' ', text)\n",
    "    \n",
    "    # Replace StockTwits usernames with a space. The usernames are any word that starts with @.\n",
    "    text = re.sub(r'\\@\\S+', ' ', text)\n",
    "\n",
    "    # Replace everything not a letter with a space\n",
    "    text = re.sub(r'[^a-zA-z]', ' ', text)\n",
    "    \n",
    "    # Tokenize by splitting the string on whitespace into a list of words\n",
    "    tokens = text.split()\n",
    "\n",
    "    # Lemmatize words using the WordNetLemmatizer. You can ignore any word that is not longer than one character.\n",
    "    wnl = nltk.stem.WordNetLemmatizer()\n",
    "    tokens_bigger_than_one = [w for w in tokens if len(w) > 1]\n",
    "    tokens = [wnl.lemmatize(w) for w in tokens_bigger_than_one]\n",
    "\n",
    "    \n",
    "    assert type(tokens) == list, 'Tokens should be list'\n",
    "    return tokens"
   ]
  },
  {
   "cell_type": "markdown",
   "metadata": {},
   "source": [
    ">Note: You must ensure that after preprocessing the text should NOT include:\n",
    "- Numbers\n",
    "- URLs\n",
    "- Single character tokens\n",
    "- Ticker symbols (these should be removed even if they don't appear at the beginning)"
   ]
  },
  {
   "cell_type": "markdown",
   "metadata": {},
   "source": [
    "### Preprocess All the Twits \n",
    "Now we can preprocess each of the twits in our dataset. Apply the function `preprocess` to all the twit messages."
   ]
  },
  {
   "cell_type": "code",
   "execution_count": 6,
   "metadata": {},
   "outputs": [
    {
     "name": "stdout",
     "output_type": "stream",
     "text": [
      "[['great', 'buy', 'at', 'ill', 'wait'], [], ['staanalystalert', 'for', 'jefferies', 'maintains', 'with', 'rating', 'of', 'hold', 'setting', 'target', 'price', 'at', 'usd', 'our', 'own', 'verdict', 'is', 'buy'], ['heard', 'there', 'guy', 'who', 'know', 'someone', 'who', 'think', 'somebody', 'know', 'something', 'on', 'stocktwits'], ['reveal', 'yourself'], ['why', 'the', 'drop', 'warren', 'buffet', 'taking', 'out', 'his', 'position'], ['bear', 'have', 'reason', 'on', 'to', 'pay', 'more', 'attention'], ['ok', 'good', 'we', 're', 'not', 'dropping', 'in', 'price', 'over', 'the', 'weekend', 'lol'], ['daily', 'chart', 'we', 'need', 'to', 'get', 'back', 'to', 'above'], ['drop', 'per', 'week', 'after', 'spike', 'if', 'no', 'news', 'in', 'month', 'back', 'to', 'if', 'bo', 'then', 'bingo', 'what', 'is', 'the', 'odds']]\n"
     ]
    }
   ],
   "source": [
    "# TODO Implement\n",
    "\n",
    "tokenized = [preprocess(m) for m in messages]\n",
    "print(tokenized[:10])\n",
    "\n"
   ]
  },
  {
   "cell_type": "markdown",
   "metadata": {},
   "source": [
    "### Bag of Words\n",
    "Now with all of our messages tokenized, we want to create a vocabulary and count up how often each word appears in our entire corpus. Use the [`Counter`](https://docs.python.org/3.1/library/collections.html#collections.Counter) function to count up all the tokens."
   ]
  },
  {
   "cell_type": "code",
   "execution_count": 8,
   "metadata": {},
   "outputs": [
    {
     "name": "stdout",
     "output_type": "stream",
     "text": [
      "<class 'collections.Counter'>\n"
     ]
    }
   ],
   "source": [
    "from collections import Counter\n",
    "\n",
    "\"\"\"\n",
    "Create a vocabulary by using Bag of words\n",
    "\"\"\"\n",
    "\n",
    "bow = Counter(w for s in tokenized for w in s)\n",
    "print(type(bow))\n",
    "\n"
   ]
  },
  {
   "cell_type": "markdown",
   "metadata": {},
   "source": [
    "### Frequency of Words Appearing in Message\n",
    "With our vocabulary, now we'll remove some of the most common words such as 'the', 'and', 'it', etc. These words don't contribute to identifying sentiment and are really common, resulting in a lot of noise in our input. If we can filter these out, then our network should have an easier time learning.\n",
    "\n",
    "We also want to remove really rare words that show up in a only a few twits. Here you'll want to divide the count of each word by the **number of messages** calculated in the code block above (i.e. `len(messages))`. Then remove words that only appear in some small fraction of the messages.\n",
    "\n",
    ">Note: There is not an exact number for low and high-frequency cut-offs, however there is a correct optimal range.\n",
    "You should ideally set up low-frequency cut-off from 0.0000002 to 0.000007 (inclusive) and high-frequency from 5 to 20 (inclusive). If the number is too big, we lose lots of important words that we can use in our data."
   ]
  },
  {
   "cell_type": "code",
   "execution_count": 11,
   "metadata": {},
   "outputs": [
    {
     "name": "stdout",
     "output_type": "stream",
     "text": [
      "[('the', 398742), ('to', 379480), ('is', 284859), ('for', 273536), ('on', 241610), ('of', 211326), ('and', 208468), ('in', 205299), ('this', 203537), ('it', 193470)]\n",
      "4524\n",
      "10\n",
      "94868\n"
     ]
    }
   ],
   "source": [
    "\"\"\"\n",
    "Set the following variables:\n",
    "    freqs\n",
    "    low_cutoff\n",
    "    high_cutoff\n",
    "    K_most_common\n",
    "\"\"\"\n",
    "\n",
    "# TODO Implement \n",
    "\n",
    "# Dictionart that contains the Frequency of words appearing in messages.\n",
    "# The key is the token and the value is the frequency of that word in the corpus.\n",
    "totalw_count = sum(bow.values())\n",
    "freqs = {w: c/totalw_count for w, c in bow.items()}\n",
    "\n",
    "\n",
    "# Float that is the frequency cutoff. Drop words with a frequency that is lower or equal to this number.\n",
    "low_cutoff = 1e-5\n",
    "\n",
    "# Integer that is the cut off for most common words. Drop words that are the `high_cutoff` most common words.\n",
    "high_cutoff = 10\n",
    "\n",
    "# The k most common words in the corpus. Use `high_cutoff` as the k.\n",
    "K_most_common = bow.most_common(high_cutoff)\n",
    "\n",
    "\n",
    "filtered_words = [word for word in freqs if (freqs[word] > low_cutoff and word not in K_most_common)]\n",
    "print(K_most_common)\n",
    "print(len(filtered_words)) \n",
    "print(len(K_most_common))\n",
    "print(len(bow)-len(filtered_words))"
   ]
  },
  {
   "cell_type": "markdown",
   "metadata": {},
   "source": [
    "## Updating Vocabulary by Removing Filtered Words\n",
    "Let's creat three variables that will help with our vocabulary."
   ]
  },
  {
   "cell_type": "code",
   "execution_count": 13,
   "metadata": {},
   "outputs": [
    {
     "name": "stdout",
     "output_type": "stream",
     "text": [
      "{'great': 0, 'buy': 1, 'at': 2, 'ill': 3, 'wait': 4, 'staanalystalert': 5, 'for': 6, 'jefferies': 7, 'maintains': 8, 'with': 9, 'rating': 10, 'of': 11, 'hold': 12, 'setting': 13, 'target': 14, 'price': 15, 'usd': 16, 'our': 17, 'own': 18, 'verdict': 19, 'is': 20, 'heard': 21, 'there': 22, 'guy': 23, 'who': 24, 'know': 25, 'someone': 26, 'think': 27, 'somebody': 28, 'something': 29, 'on': 30, 'stocktwits': 31, 'reveal': 32, 'yourself': 33, 'why': 34, 'the': 35, 'drop': 36, 'warren': 37, 'buffet': 38, 'taking': 39, 'out': 40, 'his': 41, 'position': 42, 'bear': 43, 'have': 44, 'reason': 45, 'to': 46, 'pay': 47, 'more': 48, 'attention': 49, 'ok': 50, 'good': 51, 'we': 52, 're': 53, 'not': 54, 'dropping': 55, 'in': 56, 'over': 57, 'weekend': 58, 'lol': 59, 'daily': 60, 'chart': 61, 'need': 62, 'get': 63, 'back': 64, 'above': 65, 'per': 66, 'week': 67, 'after': 68, 'spike': 69, 'if': 70, 'no': 71, 'news': 72, 'month': 73, 'bo': 74, 'then': 75, 'bingo': 76, 'what': 77, 'odds': 78, 'strong': 79, 'short': 80, 'ratio': 81, 'and': 82, 'float': 83, 'via': 84, 'squeezing': 85, 'perfect': 86, 'place': 87, 'an': 88, 'option': 89, 'straddle': 90, 'near': 91, 'supporting': 92, 'trend': 93, 'start': 94, 'new': 95, 'monday': 96, 'expect': 97, 'volume': 98, 'across': 99, 'key': 100, 'company': 101, 'sector': 102, 'strategy]': 103, 'current': 104, 'portfolio': 105, 'bull': 106, 'catalyst': 107, 'continuing': 108, 'this': 109, 'uptrend': 110, 'pill': 111, 'pack': 112, 'amazon': 113, 'prime': 114, 'day': 115, 'earnings': 116, 'test': 117, 'break': 118, 'soon': 119, 'ha': 120, 'moved': 121, 'check': 122, 'movement': 123, 'peer': 124, 'mkm': 125, 'partner': 126, 'set': 127, 'it': 128, 'too': 129, 'early': 130, 'tell': 131, 'going': 132, 'happen': 133, 'even': 134, 'about': 135, 'still': 136, 'so': 137, 'many': 138, 'financially': 139, 'healthy': 140, 'problem': 141, 'meeting': 142, 'obligation': 143, 'bullish': 144, 'stock': 145, 'watch': 146, 'setup': 147, 'blog': 148, 'by': 149, 'just': 150, 'high': 151, 'alert': 152, 'next': 153, 'gt': 154, 'breakdown': 155, 'much': 156, 'better': 157, 'than': 158, 'industry': 159, 'average': 160, 'miss': 161, 'these': 162, 'confirms': 163, 'you': 164, 'will': 165, 'see': 166, 'move': 167, 'downward': 168, 'my': 169, 'breakout': 170, 'base': 171, 'gap': 172, 'ma': 173, 'weekly': 174, 'video': 175, 'quot': 176, 'growth': 177, 'when': 178, 'wa': 179, 'kid': 180, 'told': 181, 'me': 182, 'moon': 183, 'made': 184, 'percent': 185, 'rank': 186, 'th': 187, 'percentile': 188, 'thank': 189, 'don': 190, 'feel': 191, 'or': 192, 'do': 193, 'well': 194, 'they': 195, 'already': 196, 'during': 197, 'youtube': 198, 'interview': 199, 'couldn': 200, 'remember': 201, 'single': 202, 'movie': 203, 'he': 204, 'watched': 205, 'all': 206, 'year': 207, 'except': 208, 'star': 209, 'war': 210, 'black': 211, 'downgrade': 212, 'sale': 213, 'interest': 214, 'return': 215, 'equity': 216, 'although': 217, 'market': 218, 'up': 219, 'doing': 220, 'advanced': 221, 'a': 222, 'info': 223, 'july': 224, 'be': 225, 'most': 226, 'normal': 227, 'friday': 228, 'contract': 229, 'call': 230, 'put': 231, 'third': 232, 'design': 233, 'win': 234, 'timing': 235, 'match': 236, 'probably': 237, 'arm': 238, 'president': 239, 'trump': 240, 'tweet': 241, 'spoke': 242, 'king': 243, 'saudi': 244, 'him': 245, 'that': 246, 'because': 247, 'amp': 248, 'today': 249, 'insight': 250, 'intc': 251, 'said': 252, 'ice': 253, 'finish': 254, 'due': 255, 'noticed': 256, 'last': 257, 'jedi': 258, 'stream': 259, 'love': 260, 'here': 261, 'go': 262, 'leave': 263, 'view': 264, 'look': 265, 'ema': 266, 'held': 267, 'turning': 268, 'spy': 269, 'qqq': 270, 'opposite': 271, 'forward': 272, 'pe': 273, 'valuation': 274, 'can': 275, 'described': 276, 'cheap': 277, 'capital': 278, 'presentation': 279, 'common': 280, 'tencent': 281, 'facebook': 282, 'google': 283, 'how': 284, 'one': 285, 'performing': 286, 'crude': 287, 'petroleum': 288, 'natural': 289, 'gas': 290, 'simply': 291, 'havent': 292, 'lost': 293, 'any': 294, 'brown': 295, 'run': 296, 'tech': 297, 'mf': 298, 'are': 299, 'their': 300, 'shit': 301, 'every': 302, 'former': 303, 'global': 304, 'manufacturing': 305, 'pfizer': 306, 'director': 307, 'may': 308, 'special': 309, 'limited': 310, 'offer': 311, 'june': 312, 'offering': 313, 'discount': 314, 'program': 315, 'below': 316, 'financials': 317, 'summary': 318, 'jeff': 319, 'long': 320, 'thesis': 321, 'energy': 322, 'low': 323, 'peg': 324, 'which': 325, 'compensates': 326, 'indicates': 327, 'rather': 328, 'pres': 329, 'coming': 330, 'seems': 331, 'support': 332, 'under': 333, 'likely': 334, 'bullshit': 335, 'worthless': 336, 'mean': 337, 'fucking': 338, 'nothing': 339, 'macau': 340, 'usa': 341, 'take': 342, 'let': 343, 'where': 344, 'right': 345, 'now': 346, 'ugly': 347, 'without': 348, 'clear': 349, 'level': 350, 'term': 351, 'bearish': 352, 'll': 353, 'previously': 354, 'mo': 355, 'followed': 356, 'end': 357, 'another': 358, 'runup': 359, 'dropped': 360, 'smart': 361, 'money': 362, 'betting': 363, 'deal': 364, 'update': 365, 'technical': 366, 'bad': 367, 'doe': 368, 'present': 369, 'nice': 370, 'opportunity': 371, 'completely': 372, 'scale': 373, 'time': 374, 'play': 375, 'aka': 376, 'favorite': 377, 'them': 378, 'hand': 379, 'awesome': 380, 'concerned': 381, 'eow': 382, 'might': 383, 'wk': 384, 'u': 385, 'advisor': 386, 'upgrade': 387, 'shorties': 388, 'dreaming': 389, 'updated': 390, 'food': 391, 'dividend': 392, 'analysis': 393, 'consumer': 394, 'defensive': 395, 'intel': 396, 'profitability': 397, 'safety': 398, 'score': 399, 'technology': 400, 'both': 401, 'positive': 402, 'looking': 403, 'mad': 404, 'report': 405, 'block': 406, 'person': 407, 'spam': 408, 'should': 409, 'open': 410, 'projection': 411, 'thats': 412, 'true': 413, 'prefer': 414, 'from': 415, 'turd': 416, 'aristocrat': 417, 'bank': 418, 'account': 419, 'won': 420, 'stop': 421, 'posting': 422, 'holding': 423, 'big': 424, 'calm': 425, 'down': 426, 'luck': 427, 'chase': 428, 'continues': 429, 'hopefully': 430, 'catch': 431, 'before': 432, 'lisa': 433, 'announces': 434, 'rd': 435, 'turned': 436, 'off': 437, 'trading': 438, 'maybe': 439, 'manipulation': 440, 'very': 441, 'rich': 442, 'make': 443, 'poor': 444, 'fuk': 445, 'almost': 446, 'pct': 447, 'buyback': 448, 'got': 449, 'share': 450, 'though': 451, 'drip': 452, 'dumped': 453, 'obv': 454, 'but': 455, 'jeez': 456, 'bit': 457, 'done': 458, 'bounce': 459, 'candle': 460, 'confirmation': 461, 'liking': 462, 'wife': 463, 'tree': 464, 'sure': 465, 'piggy': 466, 'lot': 467, 'coin': 468, 'spend': 469, 'microsoft': 470, 'investor': 471, 'aren': 472, 'happy': 473, 'royal': 474, 'canada': 475, 'reiterates': 476, 'outperform': 477, 'loop': 478, 'raise': 479, 'never': 480, 'been': 481, 'wrong': 482, 'miracle': 483, 'period': 484, 'bollinger': 485, 'band': 486, 'dare': 487, 'say': 488, 'didn': 489, 'hardly': 490, 'ever': 491, 'comment': 492, 'page': 493, 'broken': 494, 'giving': 495, 'endless': 496, 'give': 497, 'walk': 498, 'away': 499, 'highlight': 500, 'growing': 501, 'democrat': 502, 'leaving': 503, 'party': 504, 'robert': 505, 'baird': 506, 'neutral': 507, 'weed': 508, 'other': 509, 'drug': 510, 'guess': 511, 'reasonable': 512, 'nike': 513, 'winning': 514, 'click': 515, 'booking': 516, 'app': 517, 'acting': 518, 'reach': 519, 'brand': 520, 'built': 521, 'mobile': 522, 'strategy': 523, 'show': 524, 'morning': 525, 'heading': 526, 'ath': 527, 'acquisition': 528, 'total': 529, 'past': 530, 'exit': 531, 'zone': 532, 'fantastic': 533, 'read': 534, 'oil': 535, 'tighten': 536, 'getting': 537, 'closer': 538, 'greatest': 539, 'yearly': 540, 'performance': 541, 'did': 542, 'champion': 543, 'pretty': 544, 'risky': 545, 'gamble': 546, 'either': 547, 'plummet': 548, 'rally': 549, 'stronger': 550, 'apple': 551, 'talking': 552, 'seller': 553, 'sense': 554, 'old': 555, 'dust': 556, 'pc': 557, 'gamers': 558, 'crypto': 559, 'miner': 560, 'gpu': 561, 'waiting': 562, 'two': 563, 'only': 564, 'medium': 565, 'decent': 566, 'pattern': 567, 'five': 568, 'baba': 569, 'raytheon': 570, 'industrials': 571, 'military': 572, 'trending': 573, 'drunk': 574, 'doesn': 575, 'through': 576, 'gapping': 577, 'parker': 578, 'glass': 579, 'seen': 580, 'focus': 581, 'fashion': 582, 'like': 583, 'sbux': 584, 'paying': 585, 'full': 586, 'sex': 587, 'change': 588, 'employee': 589, 'hit': 590, 'bottom': 591, 'line': 592, 'recap': 593, 'since': 594, 'post': 595, 'trade': 596, 'included': 597, 'wynn': 598, 'enterprise': 599, 'value': 600, 'v': 601, 'cap': 602, 'difference': 603, 'actual': 604, 'asset': 605, 'spread': 606, 'way': 607, 'undervalued': 608, 'million': 609, 'added': 610, 'dont': 611, 'become': 612, 'such': 613, 'monopoly': 614, 'dipping': 615, 'into': 616, 'everything': 617, 'airline': 618, 'possibility': 619, 'loss': 620, 'suggested': 621, 'chartmill': 622, 'analyzer': 623, 'resistance': 624, 'reversal': 625, 'progress': 626, 've': 627, 'recently': 628, 'closed': 629, 'list': 630, 'bought': 631, 'same': 632, 'used': 633, 'according': 634, 'data': 635, 'reported': 636, 'finra': 637, 'clocked': 638, 'official': 639, 'came': 640, 'saying': 641, 'agree': 642, 'resume': 643, 'cover': 644, 'front': 645, 'leg': 646, 'would': 647, 'some': 648, 'am': 649, 'watching': 650, 'wonder': 651, 'valued': 652, 'higher': 653, 'also': 654, 'shorted': 655, 'consolidation': 656, 'cautious': 657, 'disappointed': 658, 'close': 659, 'ending': 660, 'killed': 661, 'best': 662, 'february': 663, 'funny': 664, 'thing': 665, 'similar': 666, 'story': 667, 'different': 668, 'measured': 669, 'divergence': 670, 'really': 671, 'momentum': 672, 'starting': 673, 'venture': 674, 'tariff': 675, 'increase': 676, 'profit': 677, 'recession': 678, 'come': 679, 'keep': 680, 'buying': 681, 'pure': 682, 'min': 683, 'indicating': 684, 'accumulation': 685, 'eod': 686, 'could': 687, 'pop': 688, 'heavy': 689, 'goo': 690, 'squeeze': 691, 'pullback': 692, 'upside': 693, 'nvda': 694, 'safe': 695, 'yield': 696, 'div': 697, 'adding': 698, 'possible': 699, 'gain': 700, 'welcome': 701, 'gl': 702, 'seeing': 703, 'jumping': 704, 'joy': 705, 'least': 706, 'given': 707, 'action': 708, 'bouncing': 709, 'continuation': 710, 'hopeful': 711, 'science': 712, 'officially': 713, 'became': 714, 'major': 715, 'ai': 716, 'era': 717, 'second': 718, 'minute': 719, 'rule': 720, 'six': 721, 'killing': 722, 'tax': 723, 'cut': 724, 'idea': 725, 'haven': 726, 'posted': 727, 'while': 728, 'omg': 729, 'toy': 730, 'land': 731, 'amazing': 732, 'ytd': 733, 'popular': 734, 'word': 735, 'those': 736, 'dip': 737, 'haha': 738, 'rain': 739, 'white': 740, 'house': 741, 'quality': 742, 'moment': 743, 'doubt': 744, 'production': 745, 'eps': 746, 'constellation': 747, 'disney': 748, 'acquire': 749, 'fox': 750, 'group': 751, 'counter': 752, 'aggregate': 753, 'flight': 754, 'delta': 755, 'california': 756, 'netflix': 757, 'inc': 758, 'nflx': 759, 'versus': 760, 'fb': 761, 'starbucks': 762, 'using': 763, 'iex': 764, 'calculate': 765, 'shorters': 766, 'bankruptcy': 767, 'investment': 768, 'counsel': 769, 'lower': 770, 'stake': 771, 'unitedhealth': 772, 'vega': 773, 'laptop': 774, 'investing': 775, 'yr': 776, 'bond': 777, 'continue': 778, 'add': 779, 'country': 780, 'amd': 781, 'ryzen': 782, 'shark': 783, 'definitely': 784, 'august': 785, 'g': 786, 'point': 787, 'huge': 788, 'closing': 789, 'scalp': 790, 'giant': 791, 'compared': 792, 'book': 793, 'cheaply': 794, 'quite': 795, 'job': 796, 'started': 797, 'clearly': 798, 'cup': 799, 'holder': 800, 'inverse': 801, 'confidence': 802, 'debt': 803, 'sell': 804, 'interesting': 805, 'frame': 806, 'trader': 807, 'meanwhile': 808, 'far': 809, 'wedge': 810, 'descending': 811, 'large': 812, 'im': 813, 'pt': 814, 'three': 815, 'falling': 816, 'peak': 817, 'fourth': 818, 'everyone': 819, 'coke': 820, 'smile': 821, 'thanks': 822, 'selling': 823, 'prove': 824, 'terrible': 825, 'error': 826, 'article': 827, 'hint': 828, 'finger': 829, 'crossed': 830, 'triple': 831, 'top': 832, 'bro': 833, 'work': 834, 'delete': 835, 'blue': 836, 'your': 837, 'overbought': 838, 'changing': 839, 'mr': 840, 'yo': 841, 'hi': 842, 'bed': 843, 'night': 844, 'prepared': 845, 'policy': 846, 'store': 847, 'product': 848, 'fyi': 849, 'ramp': 850, 'worker': 851, 'hill': 852, 'people': 853, 'manager': 854, 'city': 855, 'fail': 856, 'despite': 857, 'bb': 858, 'thinking': 859, 'mm': 860, 'driving': 861, 'prior': 862, 'argument': 863, 'sound': 864, 'becoming': 865, 'loses': 866, 'gaming': 867, 'channel': 868, 'cash': 869, 'machine': 870, 'semi': 871, 'altria': 872, 'graph': 873, 'reached': 874, 'want': 875, 'steady': 876, 'amid': 877, 'weak': 878, 'demand': 879, 'display': 880, 'leak': 881, 'screen': 882, 'surface': 883, 'device': 884, 'fit': 885, 'pocket': 886, 'piotroski': 887, 'health': 888, 'original': 889, 'having': 890, 'competitive': 891, 'server': 892, 'around': 893, 'epyc': 894, 'ball': 895, 'security': 896, 'flaw': 897, 'nm': 898, 'fire': 899, 'ceo': 900, 'sh': 901, 'wowza': 902, 'ago': 903, 'real': 904, 'boom': 905, 'social': 906, 'bigger': 907, 'christmas': 908, 'celgene': 909, 'sigh': 910, 'relief': 911, 'success': 912, 'mistake': 913, 'cry': 914, 'everyday': 915, 'roa': 916, 'outperforms': 917, 'longer': 918, 'sheep': 919, 'racist': 920, 'happening': 921, 'ease': 922, 'def': 923, 'horrible': 924, 'spotify': 925, 'content': 926, 'positioning': 927, 'underweight': 928, 'crowdthnk': 929, 'algo': 930, 'forecast': 931, 'chance': 932, 'moving': 933, 'brainer': 934, 'dog': 935, 'mu': 936, 'serious': 937, 'net': 938, 'negative': 939, 'indicator': 940, 'opinion': 941, 'brexit': 942, 'banker': 943, 'risk': 944, 'life': 945, 'edge': 946, 'fill': 947, 'history': 948, 'inside': 949, 'curve': 950, 'face': 951, 'fed': 952, 'concern': 953, 'study': 954, 'watchlist': 955, 'invest': 956, 'wallstreet': 957, 'runner': 958, 'pull': 959, 'slow': 960, 'thought': 961, 'flush': 962, 'china': 963, 'attack': 964, 'rated': 965, 'median': 966, 'trust': 967, 'anticipation': 968, 'rising': 969, 'analyst': 970, 'sorry': 971, 'predicted': 972, 'exited': 973, 'worth': 974, 'weight': 975, 'little': 976, 'announce': 977, 'boeing': 978, 'baked': 979, 'deep': 980, 'fails': 981, 'again': 982, 'making': 983, 'baby': 984, 'date': 985, 'extremely': 986, 'within': 987, 'midterm': 988, 'slightly': 989, 'stupid': 990, 'wasting': 991, 'oversold': 992, 'thursday': 993, 'breaking': 994, 'pharmaceutical': 995, 'field': 996, 'retest': 997, 'quickly': 998, 'world': 999, 'holiday': 1000, 'thurs': 1001, 'expensive': 1002, 'strongly': 1003, 'part': 1004, 'selection': 1005, 'benefit': 1006, 'buyer': 1007, 'fri': 1008, 'pinned': 1009, 'com': 1010, 'amzn': 1011, 'weakness': 1012, 'angle': 1013, 'crazy': 1014, 'wanna': 1015, 'hear': 1016, 'er': 1017, 'yeah': 1018, 'medical': 1019, 'coverage': 1020, 'free': 1021, 'gonna': 1022, 'fortune': 1023, 'wtf': 1024, 'casino': 1025, 'nearly': 1026, 'govt': 1027, 'jul': 1028, 'gross': 1029, 'revenue': 1030, 'rose': 1031, 'cheaper': 1032, 'monster': 1033, 'core': 1034, 'threadripper': 1035, 'cpu': 1036, 'detected': 1037, 'cause': 1038, 'were': 1039, 'bln': 1040, 'wouldn': 1041, 'try': 1042, 'produce': 1043, 'silicon': 1044, 'computing': 1045, 'chip': 1046, 'forming': 1047, 'crushed': 1048, 'monthly': 1049, 'expected': 1050, 'hype': 1051, 'financial': 1052, 'opp': 1053, 'example': 1054, 'showing': 1055, 'signal': 1056, 'rsi': 1057, 'pre': 1058, 'trying': 1059, 'advantage': 1060, 'bring': 1061, 'gloom': 1062, 'doom': 1063, 'ahead': 1064, 'happens': 1065, 'fight': 1066, 'plan': 1067, 'fall': 1068, 'death': 1069, 'cross': 1070, 'row': 1071, 'expectation': 1072, 'premarket': 1073, 'summer': 1074, 'currently': 1075, 'upper': 1076, 'range': 1077, 'outperforming': 1078, 'oh': 1079, 'stk': 1080, 'highest': 1081, 'vol': 1082, 'online': 1083, 'prof': 1084, 'healthcare': 1085, 'based': 1086, 'taken': 1087, 'punishment': 1088, 'tomorrow': 1089, 'kong': 1090, 'consolidated': 1091, 'business': 1092, 'area': 1093, 'anyone': 1094, 'happened': 1095, 'wow': 1096, 'hotel': 1097, 'condition': 1098, 'divided': 1099, 'forget': 1100, 'generation': 1101, 'enjoy': 1102, 'labor': 1103, 'future': 1104, 'broke': 1105, 'dma': 1106, 'margin': 1107, 'amongst': 1108, 'crossing': 1109, 'sign': 1110, 'attractive': 1111, 'moviepass': 1112, 'income': 1113, 'metal': 1114, 'mining': 1115, 'conservative': 1116, 'believe': 1117, 'network': 1118, 'political': 1119, 'speech': 1120, 'ouch': 1121, 'shorter': 1122, 'doj': 1123, 'fund': 1124, 'follow': 1125, 'micron': 1126, 'had': 1127, 'targeting': 1128, 'felt': 1129, 'pain': 1130, 'first': 1131, 'rt': 1132, 'american': 1133, 'absolutely': 1134, 'throwing': 1135, 'body': 1136, 'issue': 1137, 'often': 1138, 'creates': 1139, 'stay': 1140, 'course': 1141, 'ran': 1142, 'looked': 1143, 'fan': 1144, 'tip': 1145, 'competition': 1146, 'purchase': 1147, 'decrease': 1148, 'space': 1149, 'macbook': 1150, 'pro': 1151, 'touch': 1152, 'bar': 1153, 'running': 1154, 'dark': 1155, 'mode': 1156, 'altman': 1157, 'meaning': 1158, 'each': 1159, 'trip': 1160, 'search': 1161, 'find': 1162, 'anything': 1163, 'especially': 1164, 'bubble': 1165, 'becomes': 1166, 'rate': 1167, 'bias': 1168, 'strength': 1169, 'earning': 1170, 'quarter': 1171, 'transcript': 1172, 'barrel': 1173, 'extra': 1174, 'quick': 1175, 'scare': 1176, 'rip': 1177, 'sharing': 1178, 'partnership': 1179, 'firm': 1180, 'incorporated': 1181, 'grew': 1182, 'expanded': 1183, 'feb': 1184, 'correlation': 1185, 'le': 1186, 'easy': 1187, 'solar': 1188, 'order': 1189, 'use': 1190, 'permabulls': 1191, 'hehe': 1192, 'hate': 1193, 'phase': 1194, 'america': 1195, 'corp': 1196, 'bac': 1197, 'largest': 1198, 'wl': 1199, 'retailer': 1200, 'ipo': 1201, 'missed': 1202, 'push': 1203, 'liberal': 1204, 'agenda': 1205, 'men': 1206, 'woman': 1207, 'absurd': 1208, 'worry': 1209, 'till': 1210, 'drink': 1211, 'water': 1212, 'september': 1213, 'bastard': 1214, 'relax': 1215, 'actually': 1216, 'accelerating': 1217, 'expecting': 1218, 'upcoming': 1219, 'passed': 1220, 'besides': 1221, 'excellent': 1222, 'seek': 1223, 'fake': 1224, 'lie': 1225, 'propaganda': 1226, 'fool': 1227, 'double': 1228, 'breakaway': 1229, 'dow': 1230, 'max': 1231, 'maturity': 1232, 'maxpain': 1233, 'took': 1234, 'beating': 1235, 'towards': 1236, 'cv': 1237, 'reiterated': 1238, 'mizuho': 1239, 'bernstein': 1240, 'todd': 1241, 'potential': 1242, 'game': 1243, 'prolly': 1244, 'development': 1245, 'statement': 1246, 'economic': 1247, 'further': 1248, 'producer': 1249, 'able': 1250, 'willing': 1251, 'recent': 1252, 'survey': 1253, 'cancel': 1254, 'pulled': 1255, 'storm': 1256, 'pulling': 1257, 'unable': 1258, 'supply': 1259, 'chk': 1260, 'red': 1261, 'ops': 1262, 'walmart': 1263, 'soar': 1264, 'significantly': 1265, 'jpmorgan': 1266, 'rolling': 1267, 'brought': 1268, 'inflation': 1269, 'broader': 1270, 'meltdown': 1271, 'tho': 1272, 'staying': 1273, 'hard': 1274, 'map': 1275, 'unfortunately': 1276, 'worst': 1277, 'nvidia': 1278, 'dumb': 1279, 'pig': 1280, 'tom': 1281, 'turnaround': 1282, 'improvement': 1283, 'fly': 1284, 'loading': 1285, 'pizza': 1286, 'chain': 1287, 'competitor': 1288, 'winner': 1289, 'st': 1290, 'yep': 1291, 'joining': 1292, 'dr': 1293, 'write': 1294, 'home': 1295, 'overall': 1296, 'massively': 1297, 'extended': 1298, 'alliance': 1299, 'reporting': 1300, 'confirmed': 1301, 'comp': 1302, 'bet': 1303, 'fired': 1304, 'secret': 1305, 'losing': 1306, 'center': 1307, 'truth': 1308, 'lawsuit': 1309, 'filed': 1310, 'against': 1311, 'ge': 1312, 'retaliation': 1313, 'boston': 1314, 'office': 1315, 'enter': 1316, 'board': 1317, 'active': 1318, 'fix': 1319, 'threat': 1320, 'samsung': 1321, 'others': 1322, 'interested': 1323, 'hope': 1324, 'rebound': 1325, 'resolved': 1326, 'stochastic': 1327, 'plus': 1328, 'macd': 1329, 'centerline': 1330, 'slingshot': 1331, 'zero': 1332, 'ford': 1333, 'destroying': 1334, 'email': 1335, 'essential': 1336, 'glad': 1337, 'feeling': 1338, 'ended': 1339, 'patience': 1340, 'scaling': 1341, 'btd': 1342, 'str': 1343, 'number': 1344, 'imo': 1345, 'force': 1346, 'begin': 1347, 'opening': 1348, 'fear': 1349, 'friend': 1350, 'releasing': 1351, 'anybody': 1352, 'shame': 1353, 'hiring': 1354, 'seasonal': 1355, 'school': 1356, 'rush': 1357, 'research': 1358, 'mess': 1359, 'step': 1360, 'beginning': 1361, 'wsj': 1362, 'auto': 1363, 'maker': 1364, 'including': 1365, 'tesla': 1366, 'brace': 1367, 'additional': 1368, 'import': 1369, 'election': 1370, 'cloud': 1371, 'hanging': 1372, 'head': 1373, 'repeat': 1374, 'began': 1375, 'multiple': 1376, 'sold': 1377, 'chunk': 1378, 'released': 1379, 'downside': 1380, 'failed': 1381, 'hot': 1382, 'combined': 1383, 'angry': 1384, 'causing': 1385, 'ipad': 1386, 'killer': 1387, 'estimate': 1388, 'created': 1389, 'result': 1390, 'flag': 1391, 'rise': 1392, 'sit': 1393, 'as': 1394, 'warns': 1395, 'vulnerable': 1396, 'begun': 1397, 'ish': 1398, 'priced': 1399, 'fang': 1400, 'insanity': 1401, 'wondering': 1402, 'ripe': 1403, 'wednesday': 1404, 'ah': 1405, 'saw': 1406, 'print': 1407, 'pick': 1408, 'favor': 1409, 'jack': 1410, 'box': 1411, 'ta': 1412, 'ask': 1413, 'us': 1414, 'approval': 1415, 'fast': 1416, 'cool': 1417, 'experience': 1418, 'reality': 1419, 'sport': 1420, 'picking': 1421, 'barron': 1422, 'pan': 1423, 'mastercard': 1424, 'verizon': 1425, 'couple': 1426, 'brokerage': 1427, 'avg': 1428, 'overpriced': 1429, 'damn': 1430, 'supposed': 1431, 'ramping': 1432, 'nd': 1433, 'half': 1434, 'customer': 1435, 'expanding': 1436, 'iphone': 1437, 'unit': 1438, 'rbc': 1439, 'careful': 1440, 'system': 1441, 'exist': 1442, 'quarterly': 1443, 'repurchase': 1444, 'billion': 1445, 'raised': 1446, 'bofa': 1447, 'merrill': 1448, 'lynch': 1449, 'suggest': 1450, 'wave': 1451, 'folk': 1452, 'sunday': 1453, 'church': 1454, 'outside': 1455, 'talk': 1456, 'glta': 1457, 'decade': 1458, 'credit': 1459, 'suisse': 1460, 'season': 1461, 'beat': 1462, 'walgreens': 1463, 'cantor': 1464, 'fitzgerald': 1465, 'stephen': 1466, 'pivotal': 1467, 'snapchat': 1468, 'mostly': 1469, 'gold': 1470, 'mine': 1471, 'crap': 1472, 'gm': 1473, 'lead': 1474, 'smaller': 1475, 'finally': 1476, 'peaked': 1477, 'ad': 1478, 'costco': 1479, 'computer': 1480, 'chat': 1481, 'room': 1482, 'waste': 1483, 'pharma': 1484, 'jump': 1485, 'rival': 1486, 'release': 1487, 'drag': 1488, 'effect': 1489, 'yoy': 1490, 'eye': 1491, 'live': 1492, 'latest': 1493, 'delivery': 1494, 'visa': 1495, 'settlement': 1496, 'card': 1497, 'fee': 1498, 'consolidating': 1499, 'entry': 1500, 'always': 1501, 'her': 1502, 'disgusting': 1503, 'cruise': 1504, 'ba': 1505, 'afraid': 1506, 'sun': 1507, 'cnbc': 1508, 'optimistic': 1509, 'oi': 1510, 'expiration': 1511, 'telling': 1512, 'table': 1513, 'service': 1514, 'afford': 1515, 'anymore': 1516, 'hike': 1517, 'explain': 1518, 'payout': 1519, 'economy': 1520, 'sending': 1521, 'overseas': 1522, 'gut': 1523, 'calling': 1524, 'sleep': 1525, 'elon': 1526, 'musk': 1527, 'accurate': 1528, 'direction': 1529, 'sma': 1530, 'until': 1531, 'peep': 1532, 'blocked': 1533, 'fact': 1534, 'control': 1535, 'nfl': 1536, 'march': 1537, 'madness': 1538, 'etc': 1539, 'roku': 1540, 'suck': 1541, 'alibaba': 1542, 'turkey': 1543, 'international': 1544, 'expansion': 1545, 'whole': 1546, 'dump': 1547, 'few': 1548, 'sht': 1549, 'grow': 1550, 'whats': 1551, 'seeking': 1552, 'alpha': 1553, 'hurt': 1554, 'enough': 1555, 'wall': 1556, 'street': 1557, 'idiot': 1558, 'lose': 1559, 'bankrupt': 1560, 'stealing': 1561, 'shorting': 1562, 'ground': 1563, 'choppy': 1564, 'shoulder': 1565, 'applied': 1566, 'cancer': 1567, 'jcp': 1568, 'rev': 1569, 'beta': 1570, 'volatile': 1571, 'dipped': 1572, 'fcf': 1573, 'citigroup': 1574, 'recommendation': 1575, 'moody': 1576, 'percentage': 1577, 'adx': 1578, 'msft': 1579, 'operating': 1580, 'ibm': 1581, 'bk': 1582, 'nowhere': 1583, 'fundamental': 1584, 'insider': 1585, 'ownership': 1586, 'att': 1587, 'southern': 1588, 'western': 1589, 'berkshire': 1590, 'state': 1591, 'alone': 1592, 'went': 1593, 'ebitda': 1594, 'kor': 1595, 'wfc': 1596, 'pepsico': 1597, 'pep': 1598, 'disappear': 1599, 'sky': 1600, 'institutional': 1601, 'volatility': 1602, 'dis': 1603, 'abt': 1604, 'basically': 1605, 'premium': 1606, 'mass': 1607, 'spending': 1608, 'fooled': 1609, 'profitable': 1610, 'yes': 1611, 'collaboration': 1612, 'kroger': 1613, 'txn': 1614, 'bby': 1615, 'nke': 1616, 'clf': 1617, 'symantec': 1618, 'coo': 1619, 'ebay': 1620, 'jpm': 1621, 'being': 1622, 'flow': 1623, 'tgt': 1624, 'alphabet': 1625, 'googl': 1626, 'illumina': 1627, 'kohl': 1628, 'dowdupont': 1629, 'paypal': 1630, 'pypl': 1631, 'bot': 1632, 'closely': 1633, 'stress': 1634, 'tested': 1635, 'crash': 1636, 'understand': 1637, 'ip': 1638, 'chevron': 1639, 'estimated': 1640, 'shouldn': 1641, 'twitter': 1642, 'square': 1643, 'ed': 1644, 'jun': 1645, 'mgm': 1646, 'green': 1647, 'region': 1648, 'luv': 1649, 'mar': 1650, 'hd': 1651, 'impact': 1652, 'seem': 1653, 'comparing': 1654, 'orange': 1655, 'yuan': 1656, 'toward': 1657, 'elliottwave': 1658, 'forgot': 1659, 'join': 1660, 'wks': 1661, 'damage': 1662, 'w': 1663, 'realizing': 1664, 'inflow': 1665, 'pension': 1666, 'dumping': 1667, 'ck': 1668, 'she': 1669, 'dollar': 1670, 'loser': 1671, 'found': 1672, 'swing': 1673, 'rallying': 1674, 'leap': 1675, 'january': 1676, 'po': 1677, 'act': 1678, 'belong': 1679, 'bag': 1680, 'final': 1681, 'round': 1682, 'stuff': 1683, 'grown': 1684, 'impressive': 1685, 'suffered': 1686, 'paper': 1687, 'decide': 1688, 'chinese': 1689, 'pissed': 1690, 'union': 1691, 'century': 1692, 'hoping': 1693, 'fuel': 1694, 'nicely': 1695, 'series': 1696, 'wise': 1697, 'mid': 1698, 'balance': 1699, 'south': 1700, 'man': 1701, 'opened': 1702, 'mouth': 1703, 'dirty': 1704, 'ban': 1705, 'following': 1706, 'focused': 1707, 'train': 1708, 'macro': 1709, 'mind': 1710, 'feed': 1711, 'settled': 1712, 'harley': 1713, 'shift': 1714, 'team': 1715, 'nailed': 1716, 'trial': 1717, 'gained': 1718, 'wash': 1719, 'listen': 1720, 'april': 1721, 'appears': 1722, 'rumor': 1723, 'traffic': 1724, 'tough': 1725, 'link': 1726, 'brother': 1727, 'bout': 1728, 'wild': 1729, 'ride': 1730, 'selloff': 1731, 'non': 1732, 'sp': 1733, 'anywhere': 1734, 'else': 1735, 'speak': 1736, 'significant': 1737, 'hitting': 1738, 'davidson': 1739, 'between': 1740, 'taste': 1741, 'merger': 1742, 'reading': 1743, 'uncertainty': 1744, 'approved': 1745, 'press': 1746, 'welp': 1747, 'et': 1748, 'obviously': 1749, 'knew': 1750, 'boost': 1751, 'needed': 1752, 'collect': 1753, 'sentiment': 1754, 'upset': 1755, 'gotta': 1756, 'cuz': 1757, 'ng': 1758, 'reserve': 1759, 'ready': 1760, 'haul': 1761, 'speaking': 1762, 'foreign': 1763, 'downturn': 1764, 'chicken': 1765, 'quiet': 1766, 'burn': 1767, 'pipeline': 1768, 'beautiful': 1769, 'hell': 1770, 'putin': 1771, 'blow': 1772, 'candidate': 1773, 'help': 1774, 'dear': 1775, 'loved': 1776, 'operation': 1777, 'typical': 1778, 'kind': 1779, 'headline': 1780, 'atleast': 1781, 'indication': 1782, 'shareholder': 1783, 'piece': 1784, 'impossible': 1785, 'upwards': 1786, 'tuesday': 1787, 'hundred': 1788, 'thousand': 1789, 'assume': 1790, 'mark': 1791, 'saving': 1792, 'building': 1793, 'custom': 1794, 'rig': 1795, 'build': 1796, 'music': 1797, 'record': 1798, 'hour': 1799, 'claim': 1800, 'user': 1801, 'reminds': 1802, 'steel': 1803, 'pounding': 1804, 'ignore': 1805, 'choose': 1806, 'crisis': 1807, 'housing': 1808, 'session': 1809, 'bidding': 1810, 'correct': 1811, 'charge': 1812, 'proud': 1813, 'owner': 1814, 'startup': 1815, 'commerce': 1816, 'blast': 1817, 'neither': 1818, 'crush': 1819, 'brick': 1820, 'shipping': 1821, 'confident': 1822, 'fish': 1823, 'highly': 1824, 'scared': 1825, 'revers': 1826, 'bitcoin': 1827, 'indian': 1828, 'exchange': 1829, 'gamestop': 1830, 'launch': 1831, 'biggest': 1832, 'affect': 1833, 'sec': 1834, 'remain': 1835, 'accumulating': 1836, 'halt': 1837, 'trapped': 1838, 'auction': 1839, 'blackout': 1840, 'solid': 1841, 'name': 1842, 'yea': 1843, 'god': 1844, 'russia': 1845, 'upgrading': 1846, 'buyout': 1847, 'yall': 1848, 'purpose': 1849, 'hired': 1850, 'hire': 1851, 'electric': 1852, 'car': 1853, 'care': 1854, 'left': 1855, 'wing': 1856, 'yesterday': 1857, 'theory': 1858, 'iran': 1859, 'slaughter': 1860, 'upward': 1861, 'kept': 1862, 'reaching': 1863, 'epic': 1864, 'blackberry': 1865, 'slam': 1866, 'bid': 1867, 'snap': 1868, 'patent': 1869, 'bagholder': 1870, 'island': 1871, 'cnn': 1872, 'hq': 1873, 'wmt': 1874, 'tbh': 1875, 'downtrend': 1876, 'cost': 1877, 'personal': 1878, 'collapse': 1879, 'protection': 1880, 'bill': 1881, 'review': 1882, 'exec': 1883, 'notched': 1884, 'rallied': 1885, 'tied': 1886, 'known': 1887, 'awarded': 1888, 'placed': 1889, 'nervous': 1890, 'bashing': 1891, 'valley': 1892, 'ca': 1893, 'once': 1894, 'fully': 1895, 'acquired': 1896, 'divy': 1897, 'aug': 1898, 'caught': 1899, 'desperate': 1900, 'admit': 1901, 'nearing': 1902, 'manipulating': 1903, 'crucial': 1904, 'ackman': 1905, 'letter': 1906, 'chipotle': 1907, 'noise': 1908, 'didnt': 1909, 'advice': 1910, 'eom': 1911, 'jd': 1912, 'depending': 1913, 'lt': 1914, 'scam': 1915, 'provider': 1916, 'bil': 1917, 'db': 1918, 'jan': 1919, 'yet': 1920, 'staple': 1921, 'whatever': 1922, 'model': 1923, 'milestone': 1924, 'btc': 1925, 'mc': 1926, 'sub': 1927, 'pivot': 1928, 'gave': 1929, 'pg': 1930, 'working': 1931, 'massive': 1932, 'battery': 1933, 'tired': 1934, 'lazy': 1935, 'learn': 1936, 'bargain': 1937, 'entered': 1938, 'agreement': 1939, 'confused': 1940, 'export': 1941, 'late': 1942, 'deadline': 1943, 'ponzi': 1944, 'tradewar': 1945, 'logical': 1946, 'outlook': 1947, 'crowd': 1948, 'imho': 1949, 'travel': 1950, 'trouble': 1951, 'vacation': 1952, 'owns': 1953, 'stage': 1954, 'worried': 1955, 'eoy': 1956, 'matter': 1957, 'curious': 1958, 'announcement': 1959, 'isnt': 1960, 'sprint': 1961, 'incoming': 1962, 'management': 1963, 'joint': 1964, 'co': 1965, 'historically': 1966, 'pastor': 1967, 'bleeding': 1968, 'item': 1969, 'infrastructure': 1970, 'maga': 1971, 'payment': 1972, 'ton': 1973, 'track': 1974, 'kill': 1975, 'thru': 1976, 'scan': 1977, 'leading': 1978, 'retail': 1979, 'ibdpartner': 1980, 'cannot': 1981, 'class': 1982, 'bunch': 1983, 'lowered': 1984, 'gaap': 1985, 'related': 1986, 'semiconductor': 1987, 'pm': 1988, 'emerging': 1989, 'marijuana': 1990, 'wanting': 1991, 'practice': 1992, 'please': 1993, 'slowing': 1994, 'biz': 1995, 'loan': 1996, 'bigly': 1997, 'rinse': 1998, 'domestic': 1999, 'wake': 2000, 'aapl': 2001, 'doubling': 2002, 'ridiculously': 2003, 'small': 2004, 'attempt': 2005, 'crack': 2006, 'vehicle': 2007, 'handle': 2008, 'pas': 2009, 'squeezed': 2010, 'banking': 2011, 'gift': 2012, 'none': 2013, 'window': 2014, 'color': 2015, 'perspective': 2016, 'process': 2017, 'carnage': 2018, 'tmr': 2019, 'bye': 2020, 'evil': 2021, 'fighting': 2022, 'battle': 2023, 'false': 2024, 'hater': 2025, 'hedge': 2026, 'mover': 2027, 'payday': 2028, 'park': 2029, 'resort': 2030, 'segment': 2031, 'audio': 2032, 'defense': 2033, 'ridiculous': 2034, 'easily': 2035, 'conference': 2036, 'dude': 2037, 'bright': 2038, 'walt': 2039, 'cyclical': 2040, 'lucky': 2041, 'trash': 2042, 'disappoint': 2043, 'trxc': 2044, 'surgical': 2045, 'robot': 2046, 'fda': 2047, 'iq': 2048, 'artificial': 2049, 'intelligence': 2050, 'jesus': 2051, 'dd': 2052, 'innovative': 2053, 'btfd': 2054, 'influence': 2055, 'everytime': 2056, 'architecture': 2057, 'td': 2058, 'increased': 2059, 'previous': 2060, 'obvious': 2061, 'count': 2062, 'bezos': 2063, 'quote': 2064, 'nobody': 2065, 'stand': 2066, 'phone': 2067, 'wasn': 2068, 'eu': 2069, 'em': 2070, 'recovering': 2071, 'message': 2072, 'hahahahaha': 2073, 'photo': 2074, 'voice': 2075, 'alexa': 2076, 'gd': 2077, 'surprised': 2078, 'certainly': 2079, 'index': 2080, 'goin': 2081, 'ur': 2082, 'wick': 2083, 'shadow': 2084, 'confirm': 2085, 'road': 2086, 'perhaps': 2087, 'delay': 2088, 'shop': 2089, 'truck': 2090, 'maintain': 2091, 'heart': 2092, 'engulfing': 2093, 'sup': 2094, 'cant': 2095, 'gtfo': 2096, 'holy': 2097, 'tepper': 2098, 'longs': 2099, 'struggle': 2100, 'fresh': 2101, 'grocery': 2102, 'liability': 2103, 'unlike': 2104, 'wealth': 2105, 'cutting': 2106, 'id': 2107, 'formation': 2108, 'suggests': 2109, 'decline': 2110, 'firework': 2111, 'rough': 2112, 'event': 2113, 'gov': 2114, 'shall': 2115, 'calendar': 2116, 'infinity': 2117, 'settle': 2118, 'buck': 2119, 'payable': 2120, 'skyrocket': 2121, 'pushing': 2122, 'extension': 2123, 'subject': 2124, 'raising': 2125, 'dt': 2126, 'agreed': 2127, 'theta': 2128, 'song': 2129, 'family': 2130, 'papa': 2131, 'talked': 2132, 'mkt': 2133, 'jr': 2134, 'hedging': 2135, 'shortly': 2136, 'benzinga': 2137, 'abbvie': 2138, 'subscriber': 2139, 'hasn': 2140, 'michael': 2141, 'initiated': 2142, 'goldman': 2143, 'sachs': 2144, 'donald': 2145, 'harami': 2146, 'watcher': 2147, 'fav': 2148, 'effective': 2149, 'air': 2150, 'slaughtered': 2151, 'steak': 2152, 'flash': 2153, 'fallen': 2154, 'parabolic': 2155, 'yawn': 2156, 'fairly': 2157, 'consistent': 2158, 'delivered': 2159, 'package': 2160, 'nightmare': 2161, 'sick': 2162, 'edward': 2163, 'mother': 2164, 'convinced': 2165, 'son': 2166, 'lord': 2167, 'clean': 2168, 'yolo': 2169, 'tomm': 2170, 'pls': 2171, 'kick': 2172, 'roll': 2173, 'status': 2174, 'reward': 2175, 'bold': 2176, 'criminal': 2177, 'anyways': 2178, 'ripping': 2179, 'joke': 2180, 'pony': 2181, 'genius': 2182, 'automotive': 2183, 'promised': 2184, 'delayed': 2185, 'sustainable': 2186, 'earlier': 2187, 'playing': 2188, 'perfectly': 2189, 'comparison': 2190, 'retirement': 2191, 'nasdaq': 2192, 'hahaha': 2193, 'consistently': 2194, 'save': 2195, 'penny': 2196, 'overvalued': 2197, 'onto': 2198, 'power': 2199, 'tusa': 2200, 'changed': 2201, 'um': 2202, 'kidding': 2203, 'asking': 2204, 'exp': 2205, 'honestly': 2206, 'founder': 2207, 'dinner': 2208, 'excited': 2209, 'sacrifice': 2210, 'flushed': 2211, 'warning': 2212, 'follows': 2213, 'insane': 2214, 'nope': 2215, 'note': 2216, 'ave': 2217, 'cent': 2218, 'sad': 2219, 'must': 2220, 'tank': 2221, 'sight': 2222, 'avoid': 2223, 'faith': 2224, 'retracement': 2225, 'david': 2226, 'retire': 2227, 'material': 2228, 'exotic': 2229, 'transaction': 2230, 'warner': 2231, 'covered': 2232, 'platform': 2233, 'successful': 2234, 'technically': 2235, 'myself': 2236, 'mix': 2237, 'india': 2238, 'industrial': 2239, 'direct': 2240, 'recover': 2241, 'fcking': 2242, 'asshole': 2243, 'gild': 2244, 'bloodbath': 2245, 'hcv': 2246, 'hiv': 2247, 'biktarvy': 2248, 'flat': 2249, 'deliver': 2250, 'together': 2251, 'rocket': 2252, 'young': 2253, 'corner': 2254, 'williams': 2255, 'counting': 2256, 'busy': 2257, 'paid': 2258, 'monetize': 2259, 'hbo': 2260, 'nyse': 2261, 'cute': 2262, 'narrative': 2263, 'lately': 2264, 'surprising': 2265, 'ship': 2266, 'usually': 2267, 'seriously': 2268, 'spark': 2269, 'elsewhere': 2270, 'venmo': 2271, 'answer': 2272, 'beyond': 2273, 'wish': 2274, 'owning': 2275, 'justify': 2276, 'sticking': 2277, 'fellow': 2278, 'soxx': 2279, 'lag': 2280, 'lift': 2281, 'advertising': 2282, 'canadian': 2283, 'topping': 2284, 'helping': 2285, 'stats': 2286, 'smh': 2287, 'treatment': 2288, 'surprise': 2289, 'nasty': 2290, 'north': 2291, 'shoot': 2292, 'charging': 2293, 'straight': 2294, 'aim': 2295, 'soup': 2296, 'lmao': 2297, 'ev': 2298, 'barely': 2299, 'called': 2300, 'national': 2301, 'goal': 2302, 'uh': 2303, 'praying': 2304, 'affected': 2305, 'whisper': 2306, 'predict': 2307, 'played': 2308, 'light': 2309, 'plant': 2310, 'ltd': 2311, 'tonight': 2312, 'whether': 2313, 'historic': 2314, 'biotech': 2315, 'whoever': 2316, 'wanted': 2317, 'leverage': 2318, 'korea': 2319, 'expands': 2320, 'yuge': 2321, 'heck': 2322, 'kinda': 2323, 'turn': 2324, 'flying': 2325, 'wide': 2326, 'includes': 2327, 'streaming': 2328, 'type': 2329, 'information': 2330, 'owned': 2331, 'expert': 2332, 'loose': 2333, 'til': 2334, 'correction': 2335, 'reaction': 2336, 'pending': 2337, 'relation': 2338, 'yup': 2339, 'beer': 2340, 'sears': 2341, 'denial': 2342, 'wkly': 2343, 'backtest': 2344, 'lame': 2345, 'gone': 2346, 'tremendous': 2347, 'effort': 2348, 'consolidate': 2349, 'engine': 2350, 'woe': 2351, 'triangle': 2352, 'shape': 2353, 'cc': 2354, 'door': 2355, 'local': 2356, 'golden': 2357, 'approaching': 2358, 'strategic': 2359, 'dirt': 2360, 'stopped': 2361, 'plane': 2362, 'nov': 2363, 'pumper': 2364, 'rh': 2365, 'detail': 2366, 'tight': 2367, 'boy': 2368, 'dream': 2369, 'james': 2370, 'sneaker': 2371, 'pair': 2372, 'membership': 2373, 'subscription': 2374, 'minimum': 2375, 'mention': 2376, 'primed': 2377, 'tic': 2378, 'gear': 2379, 'internet': 2380, 'bail': 2381, 'hynix': 2382, 'bound': 2383, 'wti': 2384, 'citron': 2385, 'appear': 2386, 'hulu': 2387, 'regret': 2388, 'dad': 2389, 'create': 2390, 'steal': 2391, 'copy': 2392, 'elevated': 2393, 'la': 2394, 'pump': 2395, 'scandal': 2396, 'sink': 2397, 'website': 2398, 'quit': 2399, 'drinking': 2400, 'mixed': 2401, 'guidance': 2402, 'outcome': 2403, 'majority': 2404, 'gen': 2405, 'prediction': 2406, 'alot': 2407, 'tmrw': 2408, 'fun': 2409, 'fortnite': 2410, 'shot': 2411, 'pressure': 2412, 'limit': 2413, 'congrats': 2414, 'pinning': 2415, 'remains': 2416, 'scary': 2417, 'member': 2418, 'pushed': 2419, 'addition': 2420, 'super': 2421, 'several': 2422, 'laboratory': 2423, 'plenty': 2424, 'choice': 2425, 'citi': 2426, 'fade': 2427, 'entire': 2428, 'knee': 2429, 'jerk': 2430, 'antiviral': 2431, 'chop': 2432, 'overnight': 2433, 'roe': 2434, 'spin': 2435, 'heat': 2436, 'fud': 2437, 'hearing': 2438, 'access': 2439, 'draw': 2440, 'wallet': 2441, 'instead': 2442, 'stick': 2443, 'belongs': 2444, 'filing': 2445, 'weaker': 2446, 'player': 2447, 'awhile': 2448, 'factory': 2449, 'gdp': 2450, 'mon': 2451, 'asia': 2452, 'appreciate': 2453, 'trendline': 2454, 'exactly': 2455, 'ups': 2456, 'bonus': 2457, 'averaging': 2458, 'unstoppable': 2459, 'expiry': 2460, 'october': 2461, 'flowing': 2462, 'da': 2463, 'roof': 2464, 'dat': 2465, 'mexico': 2466, 'alright': 2467, 'filling': 2468, 'strike': 2469, 'reveals': 2470, 'mega': 2471, 'spot': 2472, 'ex': 2473, 'textbook': 2474, 'dnr': 2475, 'consider': 2476, 'trillion': 2477, 'gate': 2478, 'memory': 2479, 'favorable': 2480, 'qtr': 2481, 'load': 2482, 'fine': 2483, 'garbage': 2484, 'question': 2485, 'drive': 2486, 'leader': 2487, 'grade': 2488, 'enjoying': 2489, 'boot': 2490, 'express': 2491, 'script': 2492, 'guarantee': 2493, 'investigation': 2494, 'perform': 2495, 'distribution': 2496, 'bridge': 2497, 'amount': 2498, 'race': 2499, 'downgraded': 2500, 'bagger': 2501, 'laugh': 2502, 'meat': 2503, 'disposition': 2504, 'slide': 2505, 'morgan': 2506, 'stanley': 2507, 'hated': 2508, 'concerning': 2509, 'iphones': 2510, 'lg': 2511, 'backed': 2512, 'funding': 2513, 'unless': 2514, 'warned': 2515, 'dummy': 2516, 'case': 2517, 'shown': 2518, 'survive': 2519, 'showed': 2520, 'moron': 2521, 'nomura': 2522, 'fy': 2523, 'japan': 2524, 'brewing': 2525, 'hilarious': 2526, 'danger': 2527, 'absolute': 2528, 'apart': 2529, 'headed': 2530, 'die': 2531, 'rest': 2532, 'climbing': 2533, 'immediate': 2534, 'bell': 2535, 'tommorow': 2536, 'begging': 2537, 'writing': 2538, 'jones': 2539, 'european': 2540, 'yescarta': 2541, 'challenge': 2542, 'delusional': 2543, 'judge': 2544, 'allergan': 2545, 'fate': 2546, 'commercial': 2547, 'tv': 2548, 'opex': 2549, 'dan': 2550, 'available': 2551, 'de': 2552, 'west': 2553, 'ruling': 2554, 'ignoring': 2555, 'fraud': 2556, 'congratulation': 2557, 'united': 2558, 'plain': 2559, 'journal': 2560, 'dozen': 2561, 'received': 2562, 'planning': 2563, 'cl': 2564, 'grab': 2565, 'coiling': 2566, 'deutsche': 2567, 'existing': 2568, 'animal': 2569, 'faang': 2570, 'crowded': 2571, 'tanking': 2572, 'asian': 2573, 'bloody': 2574, 'commodity': 2575, 'hammered': 2576, 'accumulate': 2577, 'accordingly': 2578, 'sweet': 2579, 'blood': 2580, 'speaks': 2581, 'trap': 2582, 'anytime': 2583, 'cbs': 2584, 'riley': 2585, 'suntrust': 2586, 'silly': 2587, 'replace': 2588, 'keycorp': 2589, 'rare': 2590, 'empty': 2591, 'seat': 2592, 'cycle': 2593, 'flannery': 2594, 'william': 2595, 'blair': 2596, 'vix': 2597, 'utility': 2598, 'dead': 2599, 'declares': 2600, 'tsla': 2601, 'toast': 2602, 'yikes': 2603, 'slammed': 2604, 'cliff': 2605, 'general': 2606, 'initiation': 2607, 'wedbush': 2608, 'piper': 2609, 'jaffray': 2610, 'boycott': 2611, 'plunge': 2612, 'bath': 2613, 'resource': 2614, 'intraday': 2615, 'supermarket': 2616, 'hr': 2617, 'smoke': 2618, 'millennials': 2619, 'caution': 2620, 'reverse': 2621, 'recovers': 2622, 'smith': 2623, 'oppenheimer': 2624, 'brutal': 2625, 'germany': 2626, 'unreal': 2627, 'hurting': 2628, 'boat': 2629, 'main': 2630, 'normally': 2631, 'shut': 2632, 'hospital': 2633, 'disaster': 2634, 'popped': 2635, 'quickrunner': 2636, 'scanner': 2637, 'communication': 2638, 'evp': 2639, 'trailing': 2640, 'rotation': 2641, 'predicting': 2642, 'generally': 2643, 'takeover': 2644, 'initiate': 2645, 'along': 2646, 'tension': 2647, 'blockbuster': 2648, 'safer': 2649, 'decision': 2650, 'tracking': 2651, 'led': 2652, 'analytics': 2653, 'hedged': 2654, 'corporation': 2655, 'critical': 2656, 'form': 2657, 'pps': 2658, 'divvy': 2659, 'waking': 2660, 'community': 2661, 'project': 2662, 'uk': 2663, 'fargo': 2664, 'fat': 2665, 'sar': 2666, 'oct': 2667, 'deserves': 2668, 'snapshot': 2669, 'ubs': 2670, 'pray': 2671, 'sitting': 2672, 'intelligent': 2673, 'bidaskclub': 2674, 'situation': 2675, 'keeping': 2676, 'hole': 2677, 'spamming': 2678, 'ticket': 2679, 'earth': 2680, 'fml': 2681, 'guggenheim': 2682, 'ear': 2683, 'bos': 2684, 'tear': 2685, 'sheet': 2686, 'europe': 2687, 'powered': 2688, 'tiny': 2689, 'chief': 2690, 'listed': 2691, 'outta': 2692, 'shooting': 2693, 'respond': 2694, 'fiscal': 2695, 'filled': 2696, 'written': 2697, 'file': 2698, 'regulation': 2699, 'fd': 2700, 'disclosure': 2701, 'entering': 2702, 'finding': 2703, 'exxon': 2704, 'mobil': 2705, 'master': 2706, 'sq': 2707, 'missing': 2708, 'activity': 2709, 'bomb': 2710, 'four': 2711, 'dammit': 2712, 'patient': 2713, 'steam': 2714, 'fucked': 2715, 'na': 2716, 'legal': 2717, 'deeper': 2718, 'projected': 2719, 'text': 2720, 'marketwatch': 2721, 'extend': 2722, 'finance': 2723, 'estimize': 2724, '[reporting': 2725, 'bmo]': 2726, 'bmo': 2727, 'jury': 2728, 'yours': 2729, 'amc]': 2730, 'ten': 2731, 'hodl': 2732, 'traded': 2733, 'isn': 2734, 'reversed': 2735, 'backing': 2736, 'fuck': 2737, 'ruined': 2738, 'fwp': 2739, 'regulator': 2740, 'public': 2741, 'factor': 2742, 'central': 2743, 'reentry': 2744, 'notice': 2745, 'merck': 2746, 'announced': 2747, 'screwed': 2748, 'proposed': 2749, 'provides': 2750, 'court': 2751, 'request': 2752, 'temporary': 2753, 'bottomed': 2754, 'benchmark': 2755, 'congress': 2756, 'ability': 2757, 'dish': 2758, 'negotiation': 2759, 'fu': 2760, 'creating': 2761, 'mini': 2762, 'dram': 2763, 'panic': 2764, 'code': 2765, 'amc': 2766, 'develop': 2767, 'divi': 2768, 'twit': 2769, 'however': 2770, 'pricing': 2771, 'billionaire': 2772, 'jim': 2773, 'controlled': 2774, 'overreaction': 2775, 'credibility': 2776, 'jp': 2777, 'pacific': 2778, 'formed': 2779, 'expand': 2780, 'license': 2781, 'application': 2782, 'bend': 2783, 'sweep': 2784, 'marketing': 2785, 'solution': 2786, 'hello': 2787, 'exhibit': 2788, 'math': 2789, 'logic': 2790, 'otm': 2791, 'estate': 2792, 'chair': 2793, 'gainer': 2794, 'supporter': 2795, 'dimon': 2796, 'putting': 2797, 'planet': 2798, 'emotion': 2799, 'kudlow': 2800, 'slight': 2801, 'mentioned': 2802, 'regardless': 2803, 'prospect': 2804, 'advance': 2805, 'facing': 2806, 'proven': 2807, 'shorty': 2808, 'bump': 2809, 'provide': 2810, 'tim': 2811, 'capacity': 2812, 'eating': 2813, 'restaurant': 2814, 'narrow': 2815, 'jet': 2816, 'carl': 2817, 'client': 2818, 'site': 2819, 'processing': 2820, 'implies': 2821, 'motor': 2822, 'switching': 2823, 'buddy': 2824, 'rock': 2825, 'capitulation': 2826, 'prob': 2827, 'toe': 2828, 'lunch': 2829, 'daddy': 2830, 'split': 2831, 'med': 2832, 'underperform': 2833, 'nordstrom': 2834, 'cowen': 2835, 'upgraded': 2836, 'equal': 2837, 'remaining': 2838, 'annoying': 2839, 'cow': 2840, 'reportedly': 2841, 'approximately': 2842, 'mln': 2843, 'later': 2844, 'cfo': 2845, 'named': 2846, 'peek': 2847, 'react': 2848, 'regular': 2849, 'remove': 2850, 'stifel': 2851, 'nicolaus': 2852, 'sometimes': 2853, 'consensus': 2854, 'officer': 2855, 'disappointing': 2856, 'daniel': 2857, 'approx': 2858, 'floor': 2859, 'chapter': 2860, 'reject': 2861, 'understanding': 2862, 'wont': 2863, 'sucker': 2864, 'lng': 2865, 'imminent': 2866, 'kicked': 2867, 'advise': 2868, 'honest': 2869, 'clueless': 2870, 'defend': 2871, 'apply': 2872, 'unknown': 2873, 'station': 2874, 'sinking': 2875, 'huh': 2876, 'compare': 2877, 'combo': 2878, 'clown': 2879, 'thx': 2880, 'btw': 2881, 'intra': 2882, 'knowing': 2883, 'switch': 2884, 'slowly': 2885, 'destroy': 2886, 'crashing': 2887, 'breach': 2888, 'optimism': 2889, 'espn': 2890, 'conversion': 2891, 'triggered': 2892, 'loaded': 2893, 'shopping': 2894, 'rat': 2895, 'smarter': 2896, 'involved': 2897, 'climb': 2898, 'ticker': 2899, 'shakeout': 2900, 'realize': 2901, 'regulated': 2902, 'nonsense': 2903, 'roasted': 2904, 'dive': 2905, 'fibonacci': 2906, 'east': 2907, 'coast': 2908, 'annualized': 2909, 'juicy': 2910, 'perma': 2911, 'tarrifs': 2912, 'hardware': 2913, 'io': 2914, 'teach': 2915, 'greed': 2916, 'possibly': 2917, 'maximum': 2918, 'destroyed': 2919, 'performer': 2920, 'stupidity': 2921, 'ole': 2922, 'greedy': 2923, 'comcast': 2924, 'throughout': 2925, 'prospectus': 2926, 'combination': 2927, 'bum': 2928, 'farm': 2929, 'pace': 2930, 'winter': 2931, 'hat': 2932, 'exploding': 2933, 'lowest': 2934, 'testing': 2935, 'supplier': 2936, 'gimme': 2937, 'hop': 2938, 'nose': 2939, 'armour': 2940, 'awful': 2941, 'listened': 2942, 'suffer': 2943, 'improved': 2944, 'bust': 2945, 'exposed': 2946, 'barclays': 2947, 'reclaim': 2948, 'surge': 2949, 'juice': 2950, 'complete': 2951, 'jmo': 2952, 'spinning': 2953, 'log': 2954, 'powder': 2955, 'brazil': 2956, 'butt': 2957, 'retarded': 2958, 'annual': 2959, 'innovation': 2960, 'argus': 2961, 'somehow': 2962, 'fault': 2963, 'nah': 2964, 'source': 2965, 'doji': 2966, 'nr': 2967, 'candlestick': 2968, 'reduced': 2969, 'cell': 2970, 'burned': 2971, 'blown': 2972, 'earn': 2973, 'delivers': 2974, 'buckle': 2975, 'gosh': 2976, 'tide': 2977, 'itm': 2978, 'fella': 2979, 'actionable': 2980, 'gappers': 2981, 'notable': 2982, 'sea': 2983, 'expire': 2984, 'institution': 2985, 'mkts': 2986, 'fell': 2987, 'spx': 2988, 'doesnt': 2989, 'simple': 2990, 'fib': 2991, 'meaningless': 2992, 'accept': 2993, 'literally': 2994, 'asap': 2995, 'cannabis': 2996, 'definitive': 2997, 'coiled': 2998, 'spring': 2999, 'bloomberg': 3000, 'relatively': 3001, 'su': 3002, 'knock': 3003, 'ross': 3004, 'important': 3005, 'suicide': 3006, 'thread': 3007, 'daytrade': 3008, 'dumbass': 3009, 'worked': 3010, 'mercy': 3011, 'amat': 3012, 'maintained': 3013, 'grows': 3014, 'fart': 3015, 'depot': 3016, 'measure': 3017, 'mile': 3018, 'november': 3019, 'politics': 3020, 'tempted': 3021, 'everywhere': 3022, 'etf': 3023, 'sort': 3024, 'aft': 3025, 'blackrock': 3026, 'acquires': 3027, 'insurance': 3028, 'familiar': 3029, 'sanction': 3030, 'twice': 3031, 'liquidity': 3032, 'software': 3033, 'side': 3034, 'ultra': 3035, 'mexican': 3036, 'crappy': 3037, 'cramer': 3038, 'disposed': 3039, 'reminder': 3040, 'covering': 3041, 'looming': 3042, 'lrcx': 3043, 'intact': 3044, 'changer': 3045, 'rewarded': 3046, 'procter': 3047, 'wiped': 3048, 'weird': 3049, 'exposure': 3050, 'usual': 3051, 'ppl': 3052, 'failure': 3053, 'glorious': 3054, 'departure': 3055, 'certain': 3056, 'crushing': 3057, 'hey': 3058, 'bud': 3059, 'booming': 3060, 'pumping': 3061, 'cisco': 3062, 'truly': 3063, 'speculation': 3064, 'drama': 3065, 'tan': 3066, 'storage': 3067, 'federal': 3068, 'mcdonald': 3069, 'cleartrend': 3070, 'identified': 3071, 'primary': 3072, 'hmmm': 3073, 'soooo': 3074, 'woke': 3075, 'award': 3076, 'execution': 3077, 'lack': 3078, 'foolish': 3079, 'flip': 3080, 'dec': 3081, 'raid': 3082, 'faded': 3083, 'vwap': 3084, 'lod': 3085, 'gapped': 3086, 'lock': 3087, 'sl': 3088, 'unloading': 3089, 'ph': 3090, 'bash': 3091, 'individual': 3092, 'port': 3093, 'switched': 3094, 'johnson': 3095, 'hammer': 3096, 'b': 3097, 'fair': 3098, 'totally': 3099, 'endo': 3100, 'generic': 3101, 'sideways': 3102, 'noobs': 3103, 'strangle': 3104, 'pathetic': 3105, 'exclusive': 3106, 'recovery': 3107, 'screw': 3108, 'broker': 3109, 'ranked': 3110, 'bleeder': 3111, 'ya': 3112, 'tower': 3113, 'minor': 3114, 'stks': 3115, 'reduce': 3116, 'protect': 3117, 'smoked': 3118, 'goodness': 3119, 'goodbye': 3120, 'disappointment': 3121, 'blame': 3122, 'sooo': 3123, 'manipulated': 3124, 'manipulate': 3125, 'suspect': 3126, 'forever': 3127, 'faster': 3128, 'bagholders': 3129, 'hang': 3130, 'shake': 3131, 'otherwise': 3132, 'ugh': 3133, 'multi': 3134, 'tutes': 3135, 'themselves': 3136, 'lvl': 3137, 'schwab': 3138, 'excuse': 3139, 'chasing': 3140, 'girl': 3141, 'learning': 3142, 'tool': 3143, 'robinhood': 3144, 'gilead': 3145, 'ira': 3146, 'swn': 3147, 'goooo': 3148, 'revpar': 3149, 'metric': 3150, 'hod': 3151, 'hahah': 3152, 'touched': 3153, 'wasnt': 3154, 'duh': 3155, 'sweeper': 3156, 'bitch': 3157, 'locked': 3158, 'gee': 3159, 'schedule': 3160, 'rejection': 3161, 'tap': 3162, 'junk': 3163, 'incredibly': 3164, 'compensation': 3165, 'stuck': 3166, 'relative': 3167, 'bounced': 3168, 'sharp': 3169, 'hourly': 3170, 'meant': 3171, 'fastest': 3172, 'cmon': 3173, 'discus': 3174, 'protest': 3175, 'nut': 3176, 'specific': 3177, 'deficit': 3178, 'wonderful': 3179, 'qcom': 3180, 'eventually': 3181, 'professional': 3182, 'unload': 3183, 'granted': 3184, 'restricted': 3185, 'carry': 3186, 'chairman': 3187, 'weigh': 3188, 'inch': 3189, 'deserve': 3190, 'activision': 3191, 'blizzard': 3192, 'kicker': 3193, 'sir': 3194, 'cave': 3195, 'lady': 3196, 'gentleman': 3197, 'unusual': 3198, 'unveils': 3199, 'slowdown': 3200, 'bto': 3201, 'impressed': 3202, 'okay': 3203, 'painful': 3204, 'assuming': 3205, 'popping': 3206, 'incredible': 3207, 'budget': 3208, 'outflow': 3209, 'afternoon': 3210, 'send': 3211, 'shocked': 3212, 'bug': 3213, 'complaint': 3214, 'aint': 3215, 'blowing': 3216, 'helped': 3217, 'rigged': 3218, 'smash': 3219, 'pumped': 3220, 'spreading': 3221, 'reit': 3222, 'bleed': 3223, 'stopping': 3224, 'averaged': 3225, 'cheapest': 3226, 'unbelievable': 3227, 'proof': 3228, 'button': 3229, 'autonomous': 3230, 'implied': 3231, 'fk': 3232, 'noon': 3233, 'ak': 3234, 'twitch': 3235, 'fking': 3236, 'darn': 3237, 'sept': 3238, 'anyway': 3239, 'overdone': 3240, 'poster': 3241, 'child': 3242, 'prop': 3243, 'dry': 3244, 'c': 3245, 'shitting': 3246, 'pant': 3247, 'heavily': 3248, 'aggressive': 3249, 'transport': 3250, 'gann': 3251, 'beverage': 3252, 'highputoi': 3253, 'highcalloi': 3254, 'ar': 3255, 'caterpillar': 3256, 'cat': 3257, 'burning': 3258, 'legit': 3259, 'blind': 3260, 'shirt': 3261, 'shared': 3262, 'speed': 3263, 'behind': 3264, 'eh': 3265, 'receive': 3266, 'visit': 3267, 'bio': 3268, 'size': 3269, 'beast': 3270, 'pic': 3271, 'rolled': 3272, 'debit': 3273, 'ag': 3274, 'calculation': 3275, 'clue': 3276, 'intermediate': 3277, 'mlr': 3278, 'touching': 3279, 'brings': 3280, 'realized': 3281, 'spent': 3282, 'preparing': 3283, 'slap': 3284, 'shitty': 3285, 'sep': 3286, 'explanation': 3287, 'knocking': 3288, 'ceiling': 3289, 'mofo': 3290, 'grabbing': 3291, 'aware': 3292, 'forum': 3293, 'dialysis': 3294, 'worse': 3295, 'hasnt': 3296, 'style': 3297, 'quietly': 3298, 'dam': 3299, 'patiently': 3300, 'stretch': 3301, 'host': 3302, 'trigger': 3303, 'boring': 3304, 'px': 3305, 'considering': 3306, 'cashed': 3307, 'pile': 3308, 'sideline': 3309, 'iot': 3310, 'instant': 3311, 'yday': 3312, 'horse': 3313, 'dems': 3314, 'increasing': 3315, 'throw': 3316, 'optionstrading': 3317, 'rejected': 3318, 'comparable': 3319, 'choo': 3320, 'figure': 3321, 'leadership': 3322, 'stfu': 3323, 'fkn': 3324, 'troll': 3325, 'resist': 3326, 'reversing': 3327, 'aid': 3328, 'tried': 3329, 'mike': 3330, 'vice': 3331, 'inverted': 3332, 'sooner': 3333, 'crook': 3334, 'foot': 3335, 'ain': 3336, 'doomed': 3337, 'prasm': 3338, 'grand': 3339, 'fck': 3340, 'sustain': 3341, 'burst': 3342, 'electronic': 3343, 'art': 3344, 'puke': 3345, 'ing': 3346, 'celebrating': 3347, 'subscribe': 3348, 'complain': 3349, 'screwing': 3350, 'sucking': 3351, 'himself': 3352, 'vetr': 3353, 'ficc': 3354, 'explosion': 3355, 'pity': 3356, 'blocking': 3357, 'invested': 3358, 'frustrating': 3359, 'xd': 3360, 'vertical': 3361, 'laughing': 3362, 'svp': 3363, 'controller': 3364, 'vinci': 3365, 'shipment': 3366, 'optum': 3367, 'un': 3368, 'territory': 3369, 'indeed': 3370, 'naked': 3371, 'property': 3372, 'gooo': 3373, 'boo': 3374, 'whoa': 3375, 'personally': 3376, 'orthopaedics': 3377, 'tecfidera': 3378, 'lagging': 3379, 'itself': 3380, 'propped': 3381, 'irrelevant': 3382, 'jamie': 3383, 'thief': 3384, 'classic': 3385, 'reliable': 3386, 'beauty': 3387, 'signed': 3388, 'scream': 3389, 'jumped': 3390, 'struggling': 3391, 'idiotic': 3392, 'hero': 3393, 'pie': 3394, 'christ': 3395, 'processed': 3396, 'tumble': 3397, 'wheel': 3398, 'strongest': 3399, 'among': 3400, 'tuned': 3401, 'naz': 3402, 'monkey': 3403, 'invisalign': 3404, 'picked': 3405, 'supported': 3406, 'cheer': 3407, 'suppose': 3408, 'flop': 3409, 'macy': 3410, 'digital': 3411, 'retard': 3412, 'hmmmmm': 3413, 'pepsi': 3414, 'underway': 3415, 'dot': 3416, 'blink': 3417, 'anti': 3418, 'finest': 3419, 'giddy': 3420, 'adjusted': 3421, 'comfortable': 3422, 'exhausted': 3423, 'fry': 3424, 'burnt': 3425, 'sum': 3426, 'meet': 3427, 'meme': 3428, 'driven': 3429, 'equipment': 3430, 'everybody': 3431, 'pool': 3432, 'eylea': 3433, 'mau': 3434, 'inflated': 3435, 'algos': 3436, 'printing': 3437, 'mrkt': 3438, 'screaming': 3439, 'doubled': 3440, 'removed': 3441, 'overweight': 3442, 'bite': 3443, 'weather': 3444, 'complaining': 3445, 'conviction': 3446, 'poised': 3447, '[jul': 3448, 'android': 3449, 'crm': 3450, 'coffee': 3451, 'lake': 3452, 'german': 3453, 'promising': 3454, 'scenario': 3455, 'nasd': 3456, 'popcorn': 3457, 'atm': 3458, 'matthew': 3459, 'loving': 3460, 'disagree': 3461, 'kicking': 3462, 'topped': 3463, 'rid': 3464, 'expense': 3465, 'azz': 3466, 'strange': 3467, 'proxy': 3468, 'ly': 3469, 'human': 3470, 'allowed': 3471, 'apparently': 3472, 'xx': 3473, 'principal': 3474, 'path': 3475, 'weren': 3476, 'reset': 3477, 'steve': 3478, 'blockchain': 3479, 'neg': 3480, 'bloated': 3481, 'beware': 3482, 'december': 3483, 'improve': 3484, 'timber': 3485, 'letting': 3486, 'fold': 3487, 'constantly': 3488, 'basis': 3489, 'victim': 3490, 'walton': 3491, 'pr': 3492, 'rekt': 3493, 'gooooo': 3494, 'imply': 3495, 'gmv': 3496, 'guru': 3497, 'joe': 3498, 'collecting': 3499, 'lovely': 3500, 'int': 3501, 'russian': 3502, 'ny': 3503, 'trick': 3504, 'ol': 3505, 'wth': 3506, 'dau': 3507, 'arpu': 3508, 'mac': 3509, 'aws': 3510, 'csoi': 3511, 'fading': 3512, 'esp': 3513, 'sphs': 3514, 'imagine': 3515, 'include': 3516, 'upon': 3517, 'deck': 3518, 'deferred': 3519, 'offered': 3520, 'breath': 3521, 'shifted': 3522, 'tp': 3523, 'liar': 3524, 'corrected': 3525, 'huawei': 3526, 'mountain': 3527, 'shoe': 3528, 'steven': 3529, 'andrew': 3530, 'tran': 3531, 'christopher': 3532, 'established': 3533, 'paint': 3534, 'illegal': 3535, 'sleeping': 3536, 'kiss': 3537, 'exact': 3538, 'promise': 3539, 'forced': 3540, 'response': 3541, 'stole': 3542, 'directly': 3543, 'powerful': 3544, 'gaining': 3545, 'tape': 3546, 'needham': 3547, 'horizon': 3548, 'historical': 3549, 'chesapeake': 3550, 'sexy': 3551, 'considered': 3552, 'lesson': 3553, 'died': 3554, 'planned': 3555, 'crashed': 3556, 'flipping': 3557, 'met': 3558, 'whack': 3559, 'implying': 3560, 'wrote': 3561, 'initial': 3562, 'beneficial': 3563, 'easiest': 3564, 'beach': 3565, 'declared': 3566, 'relentless': 3567, 'traction': 3568, 'riding': 3569, 'gambling': 3570, 'difficult': 3571, 'est': 3572, 'chump': 3573, 'dangerous': 3574, 'magic': 3575, 'mil': 3576, 'catching': 3577, 'facility': 3578, 'profile': 3579, 'private': 3580, 'privacy': 3581, 'youre': 3582, 'fook': 3583, 'eat': 3584, 'definition': 3585, 'idk': 3586, 'diamond': 3587, 'senior': 3588, 'explode': 3589, 'rarely': 3590, 'oracle': 3591, 'wed': 3592, 'mubadala': 3593, 'alive': 3594, 'mill': 3595, 'continued': 3596, 'constant': 3597, 'rebounding': 3598, 'icahn': 3599, 'van': 3600, 'sanjay': 3601, 'vote': 3602, 'grinding': 3603, 'dema': 3604, 'tempting': 3605, 'ruin': 3606, 'midday': 3607, 'required': 3608, 'm': 3609, 'dy': 3610, 'karma': 3611, 'recall': 3612, 'declining': 3613, 'bipolar': 3614, 'iv': 3615, 'shout': 3616, 'behavior': 3617, 'apps': 3618, 'celebrate': 3619, 'richard': 3620, 'magnet': 3621, 'ignorant': 3622, 'mgmt': 3623, 'aside': 3624, 'positioned': 3625, 'version': 3626, 'scott': 3627, 'lee': 3628, 'surely': 3629, 'loosing': 3630, 'crystal': 3631, 'gern': 3632, 'diff': 3633, 'scheduled': 3634, 'con': 3635, 'flipped': 3636, 'scoop': 3637, 'esports': 3638, 'random': 3639, 'punished': 3640, 'gem': 3641, 'larger': 3642, 'mmm': 3643, 'easier': 3644, 'fixed': 3645, 'gpus': 3646, 'compete': 3647, 'standing': 3648, 'retreat': 3649, 'resolve': 3650, 'micro': 3651, 'cable': 3652, 'sue': 3653, 'pb': 3654, 'sheesh': 3655, 'hating': 3656, 'mcd': 3657, 'valuable': 3658, 'bone': 3659, 'instagram': 3660, 'slip': 3661, 'stable': 3662, 'knife': 3663, 'wood': 3664, 'completed': 3665, 'silent': 3666, 'dig': 3667, 'town': 3668, 'competing': 3669, 'guaranteed': 3670, 'probe': 3671, 'accounting': 3672, 'dated': 3673, 'euro': 3674, 'tarriffs': 3675, 'nhod': 3676, 'darling': 3677, 'bored': 3678, 'gotten': 3679, 'ohh': 3680, 'carolina': 3681, 'reduction': 3682, 'al': 3683, 'odd': 3684, 'pin': 3685, 'consecutive': 3686, 'blowout': 3687, 'irrational': 3688, 'suggesting': 3689, 'asked': 3690, 'hunt': 3691, 'coaster': 3692, 'quant': 3693, 'therapy': 3694, 'jeffrey': 3695, 'arent': 3696, 'potus': 3697, 'anderson': 3698, 'alerted': 3699, 'vp': 3700, 'exercised': 3701, 'law': 3702, 'dc': 3703, 'grabbed': 3704, 'longterm': 3705, 'stack': 3706, 'apparel': 3707, 'rofl': 3708, 'ir': 3709, 'government': 3710, 'eric': 3711, 'bc': 3712, 'fomo': 3713, 'rn': 3714, 'moc': 3715, 'dance': 3716, 'lil': 3717, 'appl': 3718, 'twtr': 3719, 'saved': 3720, 'age': 3721, 'crown': 3722, 'division': 3723, 'useless': 3724, 'chert': 3725, 'llc': 3726, 'bruce': 3727, 'picture': 3728, 'roller': 3729, 'toilet': 3730, 'clock': 3731, 'adidas': 3732, 'campaign': 3733, 'charles': 3734, 'refuse': 3735, 'vz': 3736, 'gene': 3737, 'elliott': 3738, 'ea': 3739, 'haircut': 3740, 'recovered': 3741, 'hottest': 3742, 'screener': 3743, 'plz': 3744, 'freaking': 3745, 'developing': 3746, 'fearful': 3747, 'improving': 3748, 'walking': 3749, 'panicking': 3750, 'purchased': 3751, 'wheres': 3752, 'wrecked': 3753, 'spiked': 3754, 'brian': 3755, 'suddenly': 3756, 'spiking': 3757, 'follower': 3758, 'sued': 3759, 'iii': 3760, 'sayin': 3761, 'comeback': 3762, 'finished': 3763, 'biogen': 3764, 'exciting': 3765, 'duke': 3766, 'realty': 3767, 'fist': 3768, 'pointing': 3769, 'smell': 3770, 'celg': 3771, 'surging': 3772, 'wireless': 3773, 'trim': 3774, 'fucker': 3775, 'carter': 3776, 'contact': 3777, 'expiring': 3778, 'population': 3779, 'ram': 3780, 'ascending': 3781, 'mutual': 3782, 'desk': 3783, 'eyeing': 3784, 'ann': 3785, 'decides': 3786, 'wipe': 3787, 'soros': 3788, 'cake': 3789, 'hiding': 3790, 'cgc': 3791, 'burger': 3792, 'evening': 3793, 'wear': 3794, 'executive': 3795, 'pennant': 3796, 'checking': 3797, 'af': 3798, 'insta': 3799, 'www': 3800, 'offs': 3801, 'thin': 3802, 'learned': 3803, 'inevitable': 3804, 'allow': 3805, 'issued': 3806, 'gsk': 3807, 'regarding': 3808, 'sr': 3809, 'abbv': 3810, 'silver': 3811, 'roughly': 3812, 'minus': 3813, 'hmm': 3814, 'tire': 3815, 'directionally': 3816, 'failing': 3817, 'qualcomm': 3818, 'asks': 3819, 'lam': 3820, 'reuters': 3821, 'explosive': 3822, 'aboard': 3823, 'richer': 3824, 'relationship': 3825, 'morn': 3826, 'stayed': 3827, 'pentagon': 3828, 'hyped': 3829, 'wouldnt': 3830, 'mighty': 3831, 'ive': 3832, 'bother': 3833, 'immediately': 3834, 'feature': 3835, 'algorithm': 3836, 'liked': 3837, 'momo': 3838, 'stated': 3839, 'explains': 3840, 'lying': 3841, 'poop': 3842, 'believer': 3843, 'roi': 3844, 'depends': 3845, 'cashing': 3846, 'bringing': 3847, 'azure': 3848, 'woah': 3849, 'swear': 3850, 'whale': 3851, 'structure': 3852, 'convince': 3853, 'discounted': 3854, 'zen': 3855, 'geez': 3856, 'approach': 3857, 'managed': 3858, 'chill': 3859, 'discussion': 3860, 'scalping': 3861, 'locker': 3862, 'checkout': 3863, 'belief': 3864, 'bullet': 3865, 'printed': 3866, 'john': 3867, 'fam': 3868, 'dime': 3869, 'driver': 3870, 'align': 3871, 'commission': 3872, 'steer': 3873, 'exercise': 3874, 'treasury': 3875, 'moneyflow': 3876, 'victory': 3877, 'silence': 3878, 'peter': 3879, 'henry': 3880, 'scientific': 3881, 'mirror': 3882, 'martin': 3883, 'launching': 3884, 'cci': 3885, 'wreck': 3886, 'honeywell': 3887, 'deserved': 3888, 'dominated': 3889, 'lifting': 3890, 'joseph': 3891, 'gang': 3892, 'brain': 3893, 'pot': 3894, 'yahoo': 3895, 'allows': 3896, 'newbie': 3897, 'preview': 3898, 'dang': 3899, 'robinson': 3900, 'hughes': 3901, 'registration': 3902, 'afterhours': 3903, 'hahahaha': 3904, 'buzz': 3905, 'wind': 3906, 'entertainment': 3907, 'parent': 3908, 'marathon': 3909, 'crooked': 3910, 'cook': 3911, 'regain': 3912, 'reflect': 3913, 'cigna': 3914, 'couldnt': 3915, 'george': 3916, 'paul': 3917, 'kao': 3918, 'lotto': 3919, 'egg': 3920, 'frank': 3921, 'blah': 3922, 'thomas': 3923, 'cleveland': 3924, 'rental': 3925, 'garmin': 3926, 'bless': 3927, 'fishy': 3928, 'punch': 3929, 'shock': 3930, 'component': 3931, 'freakin': 3932, 'freak': 3933, 'middle': 3934, 'duty': 3935, 'capture': 3936, 'sometime': 3937, 'tie': 3938, 'tactic': 3939, 'pmest': 3940, 'automatic': 3941, 'shelf': 3942, 'hf': 3943, 'dominate': 3944, 'edison': 3945, 'washington': 3946, 'copper': 3947, 'fbi': 3948, 'justice': 3949, 'department': 3950, 'cambridge': 3951, 'guide': 3952, 'hair': 3953, 'potentially': 3954, 'podcast': 3955, 'insanely': 3956, 'sudden': 3957, 'ichimoku': 3958, 'tues': 3959, 'standard': 3960, 'summit': 3961, 'corporate': 3962, 'zuck': 3963, 'forbes': 3964, 'piss': 3965, 'worldwide': 3966, 'hack': 3967, 'hp': 3968, 'messenger': 3969, 'location': 3970, 'shortage': 3971, 'dept': 3972, 'adj': 3973, 'wholesale': 3974, 'upbeat': 3975, 'leaf': 3976, 'emotional': 3977, 'tyson': 3978, 'leaked': 3979, 'brilliant': 3980, 'currency': 3981, 'buffett': 3982, 'zuckerberg': 3983, 'sandberg': 3984, 'benioff': 3985, 'marc': 3986, 'salesforce': 3987, 'education': 3988, 'beaten': 3989, 'manufacturer': 3990, 'pete': 3991, 'dinosaur': 3992, 'smashed': 3993, 'claiming': 3994, 'stellar': 3995, 'unlikely': 3996, 'fuckin': 3997, 'mom': 3998, 'antitrust': 3999, 'suit': 4000, 'overblown': 4001, 'cmg': 4002, 'coincidence': 4003, 'kevin': 4004, 'listening': 4005, 'hacked': 4006, 'coal': 4007, 'sucked': 4008, 'supp': 4009, 'resis': 4010, 'hilo': 4011, 'radar': 4012, 'cyber': 4013, 'iron': 4014, 'xi': 4015, 'role': 4016, 'lightning': 4017, 'dumbest': 4018, 'tmw': 4019, 'engineering': 4020, 'teen': 4021, 'gainz': 4022, 'hence': 4023, 'inventory': 4024, 'raymond': 4025, 'expects': 4026, 'digit': 4027, 'coca': 4028, 'cola': 4029, 'lockheed': 4030, 'greater': 4031, 'banned': 4032, 'sk': 4033, 'dick': 4034, 'vr': 4035, 'champ': 4036, 'melt': 4037, 'proper': 4038, 'starter': 4039, 'self': 4040, 'daytrading': 4041, 'symbol': 4042, 'cooking': 4043, 'ii': 4044, 'respect': 4045, 'valuengine': 4046, 'bancorp': 4047, 'overdue': 4048, 'qtrs': 4049, 'breached': 4050, 'mall': 4051, 'powell': 4052, 'section': 4053, 'gordon': 4054, 'graphic': 4055, 'earned': 4056, 'excitement': 4057, 'lmfao': 4058, 'inbound': 4059, 'pumpers': 4060, 'italy': 4061, 'retrace': 4062, 'carefully': 4063, 'rebuy': 4064, 'timed': 4065, 'tanked': 4066, 'realistic': 4067, 'halted': 4068, 'asp': 4069, 'living': 4070, 'football': 4071, 'vision': 4072, 'lottery': 4073, 'fintech': 4074, 'scheme': 4075, 'drove': 4076, 'lived': 4077, 'campbell': 4078, 'somewhere': 4079, 'unexpected': 4080, 'club': 4081, 'smoking': 4082, 'extreme': 4083, 'discovery': 4084, 'basic': 4085, 'foundation': 4086, 'anticipated': 4087, 'college': 4088, 'nation': 4089, 'longest': 4090, 'streak': 4091, 'guessing': 4092, 'eli': 4093, 'lilly': 4094, 'rocking': 4095, 'pussy': 4096, 'bam': 4097, 'glitch': 4098, 'lowe': 4099, 'goog': 4100, 'laughable': 4101, 'yest': 4102, 'pass': 4103, 'slump': 4104, 'evidence': 4105, 'hunting': 4106, 'aal': 4107, 'lifetime': 4108, 'op': 4109, 'suggestion': 4110, 'waited': 4111, 'fq': 4112, 'shoulda': 4113, 'tiffany': 4114, 'taker': 4115, 'epsbeat': 4116, 'dying': 4117, 'bae': 4118, 'nibble': 4119, 'mw': 4120, 'desktop': 4121, 'philip': 4122, 'tsmc': 4123, 'macquarie': 4124, 'writer': 4125, 'zacks': 4126, 'crossover': 4127, 'engineer': 4128, 'beekers': 4129, 'fidelity': 4130, 'joined': 4131, 'portion': 4132, 'corrupt': 4133, 'dynamic': 4134, 'chose': 4135, 'predictable': 4136, 'partial': 4137, 'pickup': 4138, 'slower': 4139, 'meh': 4140, 'yay': 4141, 'ass': 4142, 'cop': 4143, 'rookie': 4144, 'blessing': 4145, 'cheapies': 4146, 'dragging': 4147, 'umc': 4148, 'reload': 4149, 'ondemand': 4150, 'minimal': 4151, 'wet': 4152, 'accelerate': 4153, 'thus': 4154, 'flavor': 4155, 'revisit': 4156, 'prev': 4157, 'naj': 4158, 'creeping': 4159, 'gg': 4160, 'uptick': 4161, 'hungry': 4162, 'responsible': 4163, 'texas': 4164, 'passing': 4165, 'monitor': 4166, 'gambler': 4167, 'decay': 4168, 'shaking': 4169, 'laggard': 4170, 'trough': 4171, 'instrument': 4172, 'bailed': 4173, 'agrees': 4174, 'pipe': 4175, 'rug': 4176, 'hide': 4177, 'york': 4178, 'ez': 4179, 'shed': 4180, 'launched': 4181, 'ring': 4182, 'oops': 4183, 'wearing': 4184, 'anthem': 4185, 'gent': 4186, 'atvi': 4187, 'conf': 4188, 'jnj': 4189, 'prepare': 4190, 'smack': 4191, 'peace': 4192, 'manage': 4193, 'fundamentally': 4194, 'yum': 4195, 'friendly': 4196, 'reaffirms': 4197, 'patriot': 4198, 'cancelled': 4199, 'steep': 4200, 'bus': 4201, 'probability': 4202, 'csco': 4203, 'lookin': 4204, 'ohhh': 4205, 'breakfast': 4206, 'icymi': 4207, 'ty': 4208, 'dating': 4209, 'spec': 4210, 'wdc': 4211, 'ideal': 4212, 'whoop': 4213, 'p': 4214, 'intuitive': 4215, 'weighs': 4216, 'condor': 4217, 'recommend': 4218, 'hurry': 4219, 'whenever': 4220, 'sa': 4221, 'jail': 4222, 'propping': 4223, 'dumpster': 4224, 'lay': 4225, 'warn': 4226, 'harder': 4227, 'caused': 4228, 'exiting': 4229, 'guided': 4230, 'alex': 4231, 'impatient': 4232, 'amateur': 4233, 'whose': 4234, 'league': 4235, 'sake': 4236, 'seemed': 4237, 'skin': 4238, 'replaced': 4239, 'sadly': 4240, 'swinging': 4241, 'shine': 4242, 'puppy': 4243, 'euphoria': 4244, 'lolol': 4245, 'crew': 4246, 'rescue': 4247, 'yourselves': 4248, 'amended': 4249, 'socialist': 4250, 'revolution': 4251, 'ultimately': 4252, 'jk': 4253, 'sent': 4254, 'pound': 4255, 'sand': 4256, 'outstanding': 4257, 'myspace': 4258, 'ultimate': 4259, 'stepping': 4260, 'thur': 4261, 'nail': 4262, 'obama': 4263, 'taiwan': 4264, 'chatter': 4265, 'decided': 4266, 'provided': 4267, 'cult': 4268, 'microcap': 4269, 'bob': 4270, 'tune': 4271, 'presented': 4272, 'timothy': 4273, 'fomc': 4274, 'drain': 4275, 'sweat': 4276, 'appeal': 4277, 'baker': 4278, 'stone': 4279, 'commentary': 4280, 'gary': 4281, 'completion': 4282, 'treat': 4283, 'administration': 4284, 'rosenblatt': 4285, 'ordered': 4286, 'craig': 4287, 'x': 4288, 'wrap': 4289, 'argue': 4290, 'lo': 4291, 'thumb': 4292, 'uber': 4293, 'morris': 4294, 'cont': 4295, 'processor': 4296, 'nand': 4297, 'conspiracy': 4298, 'uncle': 4299, 'grind': 4300, 'nor': 4301, 'hmmmm': 4302, 'harris': 4303, 'relevant': 4304, 'hasbro': 4305, 'offset': 4306, 'millionaire': 4307, 'figured': 4308, 'chipmaker': 4309, 'sc': 4310, 'otc': 4311, 'gun': 4312, 'ripped': 4313, 'believed': 4314, 'manipulator': 4315, 'announcing': 4316, 'veteran': 4317, 'clark': 4318, 'ray': 4319, 'lampert': 4320, 'xbox': 4321, 'web': 4322, 'tr': 4323, 'trapping': 4324, 'camera': 4325, 'circle': 4326, 'checked': 4327, 'generate': 4328, 'gb': 4329, 'barrier': 4330, 'brief': 4331, 'speaker': 4332, 'broadcom': 4333, 'wage': 4334, 'whatsapp': 4335, 'shook': 4336, 'heaven': 4337, 'trolling': 4338, 'csx': 4339, 'alternative': 4340, 'warrant': 4341, 'badly': 4342, 'basement': 4343, 'radeon': 4344, 'cold': 4345, 'laughed': 4346, 'secured': 4347, 'shs': 4348, 'environment': 4349, 'tail': 4350, 'republican': 4351, 'mortgage': 4352, 'verge': 4353, 'headwind': 4354, 'si': 4355, 'stair': 4356, 'expired': 4357, 'perfection': 4358, 'tick': 4359, 'police': 4360, 'restructuring': 4361, 'remind': 4362, 'jensen': 4363, 'ti': 4364, 'highlighted': 4365, 'remark': 4366, 'negativity': 4367, 'somewhat': 4368, 'superior': 4369, 'einhorn': 4370, 'image': 4371, 'dominant': 4372, 'blew': 4373, 'piling': 4374, 'pink': 4375, 'wishing': 4376, 'bottoming': 4377, 'elevator': 4378, 'pause': 4379, 'xmas': 4380, 'creation': 4381, 'aftermarket': 4382, 'sympathy': 4383, 'tock': 4384, 'keybanc': 4385, 'aths': 4386, 'soft': 4387, 'pouring': 4388, 'shaken': 4389, 'medtronic': 4390, 'woo': 4391, 'evercore': 4392, 'isi': 4393, 'messed': 4394, 'receives': 4395, 'typically': 4396, 'eia': 4397, 'broad': 4398, 'ding': 4399, 'execute': 4400, 'eddie': 4401, 'smartphone': 4402, 'bernie': 4403, 'stubborn': 4404, 'rode': 4405, 'morrow': 4406, 'radio': 4407, 'capex': 4408, 'fx': 4409, 'susquehanna': 4410, 'shes': 4411, 'matching': 4412, 'optionpros': 4413, 'amgen': 4414, 'avgo': 4415, 'el': 4416, 'fedex': 4417, 'underwater': 4418, 'lmt': 4419, 'shld': 4420, 'flagging': 4421, 'mfi': 4422, 'lowering': 4423, 'acct': 4424, 'tag': 4425, 'ig': 4426, 'inline': 4427, 'webcast': 4428, 'disease': 4429, 'cleared': 4430, 'soaring': 4431, 'canopy': 4432, 'surpass': 4433, 'theme': 4434, 'roadmap': 4435, 'tasty': 4436, 'xilinx': 4437, 'neck': 4438, 'plc': 4439, 'zoom': 4440, 'adobe': 4441, 'canaccord': 4442, 'genuity': 4443, 'instantly': 4444, 'clockwork': 4445, 'dh': 4446, 'bang': 4447, 'datacenter': 4448, 'ate': 4449, 'breather': 4450, 'ho': 4451, 'hari': 4452, 'overextended': 4453, 'secure': 4454, 'warm': 4455, 'parabola': 4456, 'locking': 4457, 'chaser': 4458, 'cohen': 4459, 'fin': 4460, 'woot': 4461, 'loud': 4462, 'dilution': 4463, 'hacker': 4464, 'accelerated': 4465, 'discord': 4466, 'halloween': 4467, 'nafta': 4468, 'knowledge': 4469, 'censorship': 4470, 'tone': 4471, 'hmny': 4472, 'teeth': 4473, 'activist': 4474, 'hurricane': 4475, 'penney': 4476, 'insidertrading': 4477, 'rout': 4478, 'colin': 4479, 'advertiser': 4480, 'liquidation': 4481, 'whisperbeat': 4482, 'cod': 4483, 'kavanaugh': 4484, 'winder': 4485, 'senate': 4486, 'experienced': 4487, 'noteworthy': 4488, 'edited': 4489, 'lira': 4490, 'larry': 4491, 'rome': 4492, 'robust': 4493, 'jordan': 4494, 'whispermiss': 4495, 'buckingham': 4496, 'turing': 4497, 'tilray': 4498, 'wolfe': 4499, 'jhook': 4500, 'setupalert': 4501, 'xr': 4502, 'tlry': 4503, 'daytradesetup': 4504, 'maxgain': 4505, 'daystoexpire': 4506, 'culp': 4507, 'thvt': 4508, 'cbd': 4509, 'expirestoday': 4510, 'moonves': 4511, 'exhi': 4512, 'largecap': 4513, 'totalitarian': 4514, 'rtx': 4515, 'sincealerted': 4516, 'kaepernick': 4517, 'kap': 4518, 'florence': 4519, 'aposs': 4520, 'fintechnews': 4521, 'peakgain': 4522, '_levels': 4523}\n"
     ]
    },
    {
     "ename": "AssertionError",
     "evalue": "Check vocab and id2vocab dictionaries",
     "output_type": "error",
     "traceback": [
      "\u001b[0;31m---------------------------------------------------------------------------\u001b[0m",
      "\u001b[0;31mAssertionError\u001b[0m                            Traceback (most recent call last)",
      "\u001b[0;32m<ipython-input-13-954607814331>\u001b[0m in \u001b[0;36m<module>\u001b[0;34m()\u001b[0m\n\u001b[1;32m     16\u001b[0m \u001b[0mfiltered\u001b[0m \u001b[0;34m=\u001b[0m \u001b[0;34m[\u001b[0m\u001b[0;34m[\u001b[0m\u001b[0mw\u001b[0m \u001b[0;32mfor\u001b[0m \u001b[0mw\u001b[0m \u001b[0;32min\u001b[0m \u001b[0ms\u001b[0m \u001b[0;32mif\u001b[0m \u001b[0mw\u001b[0m \u001b[0;32min\u001b[0m \u001b[0mvocab\u001b[0m\u001b[0;34m]\u001b[0m \u001b[0;32mfor\u001b[0m \u001b[0ms\u001b[0m \u001b[0;32min\u001b[0m \u001b[0mtokenized\u001b[0m\u001b[0;34m]\u001b[0m\u001b[0;34m\u001b[0m\u001b[0m\n\u001b[1;32m     17\u001b[0m \u001b[0mprint\u001b[0m\u001b[0;34m(\u001b[0m\u001b[0mvocab\u001b[0m\u001b[0;34m)\u001b[0m\u001b[0;34m\u001b[0m\u001b[0m\n\u001b[0;32m---> 18\u001b[0;31m \u001b[0;32massert\u001b[0m \u001b[0mset\u001b[0m\u001b[0;34m(\u001b[0m\u001b[0mvocab\u001b[0m\u001b[0;34m.\u001b[0m\u001b[0mkeys\u001b[0m\u001b[0;34m(\u001b[0m\u001b[0;34m)\u001b[0m\u001b[0;34m)\u001b[0m \u001b[0;34m==\u001b[0m \u001b[0mset\u001b[0m\u001b[0;34m(\u001b[0m\u001b[0mid2vocab\u001b[0m\u001b[0;34m.\u001b[0m\u001b[0mvalues\u001b[0m\u001b[0;34m(\u001b[0m\u001b[0;34m)\u001b[0m\u001b[0;34m)\u001b[0m\u001b[0;34m,\u001b[0m \u001b[0;34m'Check vocab and id2vocab dictionaries'\u001b[0m\u001b[0;34m\u001b[0m\u001b[0m\n\u001b[0m",
      "\u001b[0;31mAssertionError\u001b[0m: Check vocab and id2vocab dictionaries"
     ]
    }
   ],
   "source": [
    "\"\"\"\n",
    "Set the following variables:\n",
    "    vocab\n",
    "    id2vocab\n",
    "    filtered\n",
    "\"\"\"\n",
    "\n",
    "#TODO Implement\n",
    "\n",
    "# A dictionary for the `filtered_words`. The key is the word and value is an id that represents the word. \n",
    "vocab = {word: ii for ii, word in enumerate(filtered_words)}\n",
    "\n",
    "# Reverse of the `vocab` dictionary. The key is word id and value is the word. \n",
    "id2vocab = {ii: word for ii, word in vocab.items()}\n",
    "# tokenized with the words not in `filtered_words` removed.\n",
    "filtered = [[w for w in s if w in vocab] for s in tokenized]\n",
    "print(vocab)\n",
    "assert set(vocab.keys()) == set(id2vocab.values()), 'Check vocab and id2vocab dictionaries'"
   ]
  },
  {
   "cell_type": "markdown",
   "metadata": {},
   "source": [
    "### Balancing the classes\n",
    "Let's do a few last pre-processing steps. If we look at how our twits are labeled, we'll find that 50% of them are neutral. This means that our network will be 50% accurate just by guessing 0 every single time. To help our network learn appropriately, we'll want to balance our classes.\n",
    "That is, make sure each of our different sentiment scores show up roughly as frequently in the data.\n",
    "\n",
    "What we can do here is go through each of our examples and randomly drop twits with neutral sentiment. What should be the probability we drop these twits if we want to get around 20% neutral twits starting at 50% neutral? We should also take this opportunity to remove messages with length 0."
   ]
  },
  {
   "cell_type": "code",
   "execution_count": 14,
   "metadata": {},
   "outputs": [],
   "source": [
    "balanced = {'messages': [], 'sentiments':[]}\n",
    "\n",
    "n_neutral = sum(1 for each in sentiments if each == 2)\n",
    "N_examples = len(sentiments)\n",
    "keep_prob = (N_examples - n_neutral)/4/n_neutral\n",
    "\n",
    "for idx, sentiment in enumerate(sentiments):\n",
    "    message = filtered[idx]\n",
    "    if len(message) == 0:\n",
    "        # skip this message because it has length zero\n",
    "        continue\n",
    "    elif sentiment != 2 or random.random() < keep_prob:\n",
    "        balanced['messages'].append(message)\n",
    "        balanced['sentiments'].append(sentiment) "
   ]
  },
  {
   "cell_type": "markdown",
   "metadata": {},
   "source": [
    "If you did it correctly, you should see the following result "
   ]
  },
  {
   "cell_type": "code",
   "execution_count": 15,
   "metadata": {},
   "outputs": [
    {
     "data": {
      "text/plain": [
       "0.1940035771072918"
      ]
     },
     "execution_count": 15,
     "metadata": {},
     "output_type": "execute_result"
    }
   ],
   "source": [
    "n_neutral = sum(1 for each in balanced['sentiments'] if each == 2)\n",
    "N_examples = len(balanced['sentiments'])\n",
    "n_neutral/N_examples"
   ]
  },
  {
   "cell_type": "markdown",
   "metadata": {},
   "source": [
    "Finally let's convert our tokens into integer ids which we can pass to the network."
   ]
  },
  {
   "cell_type": "code",
   "execution_count": 16,
   "metadata": {},
   "outputs": [],
   "source": [
    "token_ids = [[vocab[word] for word in message] for message in balanced['messages']]\n",
    "sentiments = balanced['sentiments']"
   ]
  },
  {
   "cell_type": "markdown",
   "metadata": {},
   "source": [
    "## Neural Network\n",
    "Now we have our vocabulary which means we can transform our tokens into ids, which are then passed to our network. So, let's define the network now!\n",
    "\n",
    "Here is a nice diagram showing the network we'd like to build: \n",
    "\n",
    "#### Embed -> RNN -> Dense -> Softmax\n",
    "### Implement the text classifier\n",
    "Before we build text classifier, if you remember from the other network that you built in  \"Sentiment Analysis with an RNN\"  exercise  - which there, the network called \" SentimentRNN\", here we named it \"TextClassifer\" - consists of three main parts: 1) init function `__init__` 2) forward pass `forward`  3) hidden state `init_hidden`. \n",
    "\n",
    "This network is pretty similar to the network you built expect in the  `forward` pass, we use softmax instead of sigmoid. The reason we are not using sigmoid is that the output of NN is not a binary. In our network, sentiment scores have 5 possible outcomes. We are looking for an outcome with the highest probability thus softmax is a better choice."
   ]
  },
  {
   "cell_type": "code",
   "execution_count": 17,
   "metadata": {},
   "outputs": [],
   "source": [
    "class TextClassifier(nn.Module):\n",
    "    def __init__(self, vocab_size, embed_size, lstm_size, output_size, lstm_layers=1, dropout=0.1):\n",
    "        \"\"\"\n",
    "        Initialize the model by setting up the layers.\n",
    "        \n",
    "        Parameters\n",
    "        ----------\n",
    "            vocab_size : The vocabulary size.\n",
    "            embed_size : The embedding layer size.\n",
    "            lstm_size : The LSTM layer size.\n",
    "            output_size : The output size.\n",
    "            lstm_layers : The number of LSTM layers.\n",
    "            dropout : The dropout probability.\n",
    "        \"\"\"\n",
    "        \n",
    "        super().__init__()\n",
    "        self.vocab_size = vocab_size\n",
    "        self.embed_size = embed_size\n",
    "        self.lstm_size = lstm_size\n",
    "        self.output_size = output_size\n",
    "        self.lstm_layers = lstm_layers\n",
    "        self.dropout = dropout\n",
    "        \n",
    "        # TODO Implement\n",
    "\n",
    "        # Setup embedding layer\n",
    "        self.embedding = nn.Embedding(vocab_size, embed_size, padding_idx=0)\n",
    "        \n",
    "        # Setup additional layers\n",
    "        self.lstm = nn.LSTM(embed_size, lstm_size, lstm_layers, dropout=dropout, batch_first=False)\n",
    "        self.dense = nn.Linear(in_features=lstm_size, out_features=output_size)\n",
    "        self.softmax = nn.LogSoftmax(dim=1)\n",
    "\n",
    "\n",
    "    def init_hidden(self, batch_size):\n",
    "        \"\"\" \n",
    "        Initializes hidden state\n",
    "        \n",
    "        Parameters\n",
    "        ----------\n",
    "            batch_size : The size of batches.\n",
    "        \n",
    "        Returns\n",
    "        -------\n",
    "            hidden_state\n",
    "            \n",
    "        \"\"\"\n",
    "        \n",
    "        # TODO Implement \n",
    "        \n",
    "        # Create two new tensors with sizes n_layers x batch_size x hidden_dim,\n",
    "        # initialized to zero, for hidden state and cell state of LSTM\n",
    "        \n",
    "        weight = next(self.parameters()).data\n",
    "        \n",
    "        hidden_state = weight.new(self.lstm_layers, batch_size, self.lstm_size).zero_() \n",
    "        cell_state = weight.new(self.lstm_layers, batch_size, self.lstm_size).zero_()\n",
    "        \n",
    "        return (hidden_state, cell_state)\n",
    "\n",
    "    def forward(self, nn_input, hidden_state):\n",
    "        \"\"\"\n",
    "        Perform a forward pass of our model on nn_input.\n",
    "        \n",
    "        Parameters\n",
    "        ----------\n",
    "            nn_input : The batch of input to the NN.\n",
    "            hidden_state : The LSTM hidden state.\n",
    "\n",
    "        Returns\n",
    "        -------\n",
    "            logps: log softmax output\n",
    "            hidden_state: The new hidden state.\n",
    "\n",
    "        \"\"\"\n",
    "        \n",
    "        # TODO Implement \n",
    "        \n",
    "        batch_size = nn_input.size(0)\n",
    "        \n",
    "        #embeddings \n",
    "        x = nn_input.long()\n",
    "        embeds = self.embedding(x)\n",
    "        #lstm_out\n",
    "        lstm_out, hidden = self.lstm(embeds, hidden_state)        \n",
    "        \n",
    "        #stack lstm outputs\n",
    "        lstm_out = lstm_out[-1,:,:]\n",
    "        \n",
    "        #fc layer\n",
    "        dense_out = self.dense(lstm_out)\n",
    "        \n",
    "        #softmax\n",
    "        softmax_out = self.softmax(dense_out)\n",
    "        \n",
    "        return softmax_out, hidden_state"
   ]
  },
  {
   "cell_type": "markdown",
   "metadata": {},
   "source": [
    "### View Model"
   ]
  },
  {
   "cell_type": "code",
   "execution_count": 18,
   "metadata": {},
   "outputs": [
    {
     "name": "stdout",
     "output_type": "stream",
     "text": [
      "tensor([[-1.2811, -1.8293, -1.5975, -1.6171, -1.8272],\n",
      "        [-1.3051, -1.8199, -1.5929, -1.6234, -1.7943],\n",
      "        [-1.2696, -1.8405, -1.6077, -1.6267, -1.8115],\n",
      "        [-1.3003, -1.8196, -1.5974, -1.6317, -1.7871]])\n"
     ]
    }
   ],
   "source": [
    "model = TextClassifier(len(vocab), 10, 6, 5, dropout=0.1, lstm_layers=2)\n",
    "model.embedding.weight.data.uniform_(-1, 1)\n",
    "input = torch.randint(0, 1000, (5, 4), dtype=torch.int64)\n",
    "hidden = model.init_hidden(4)\n",
    "\n",
    "logps, _ = model.forward(input, hidden)\n",
    "print(logps)"
   ]
  },
  {
   "cell_type": "markdown",
   "metadata": {},
   "source": [
    "## Training\n",
    "### DataLoaders and Batching\n",
    "Now we should build a generator that we can use to loop through our data. It'll be more efficient if we can pass our sequences in as batches. Our input tensors should look like `(sequence_length, batch_size)`. So if our sequences are 40 tokens long and we pass in 25 sequences, then we'd have an input size of `(40, 25)`.\n",
    "\n",
    "If we set our sequence length to 40, what do we do with messages that are more or less than 40 tokens? For messages with fewer than 40 tokens, we will pad the empty spots with zeros. We should be sure to **left** pad so that the RNN starts from nothing before going through the data. If the message has 20 tokens, then the first 20 spots of our 40 long sequence will be 0. If a message has more than 40 tokens, we'll just keep the first 40 tokens."
   ]
  },
  {
   "cell_type": "code",
   "execution_count": 19,
   "metadata": {},
   "outputs": [],
   "source": [
    "def dataloader(messages, labels, sequence_length=30, batch_size=32, shuffle=False):\n",
    "    \"\"\" \n",
    "    Build a dataloader.\n",
    "    \"\"\"\n",
    "    if shuffle:\n",
    "        indices = list(range(len(messages)))\n",
    "        random.shuffle(indices)\n",
    "        messages = [messages[idx] for idx in indices]\n",
    "        labels = [labels[idx] for idx in indices]\n",
    "\n",
    "    total_sequences = len(messages)\n",
    "\n",
    "    for ii in range(0, total_sequences, batch_size):\n",
    "        batch_messages = messages[ii: ii+batch_size]\n",
    "        \n",
    "        # First initialize a tensor of all zeros\n",
    "        batch = torch.zeros((sequence_length, len(batch_messages)), dtype=torch.int64)\n",
    "        for batch_num, tokens in enumerate(batch_messages):\n",
    "            token_tensor = torch.tensor(tokens)\n",
    "            # Left pad!\n",
    "            start_idx = max(sequence_length - len(token_tensor), 0)\n",
    "            batch[start_idx:, batch_num] = token_tensor[:sequence_length]\n",
    "        \n",
    "        label_tensor = torch.tensor(labels[ii: ii+len(batch_messages)])\n",
    "        \n",
    "        yield batch, label_tensor"
   ]
  },
  {
   "cell_type": "markdown",
   "metadata": {},
   "source": [
    "### Training and  Validation\n",
    "With our data in nice shape, we'll split it into training and validation sets."
   ]
  },
  {
   "cell_type": "code",
   "execution_count": 20,
   "metadata": {},
   "outputs": [],
   "source": [
    "\"\"\"\n",
    "Split data into training and validation datasets. Use an appropriate split size.\n",
    "The features are the `token_ids` and the labels are the `sentiments`.\n",
    "\"\"\"   \n",
    "\n",
    "# TODO Implement \n",
    "#First of all we need to split the dataset into a train\n",
    "#and test set.\n",
    "def dataset_split(dataset, split=0.70):\n",
    "    split_index = int(len(dataset) * split)\n",
    "    \n",
    "    return dataset[:split_index], dataset[split_index:]\n",
    "\n",
    "train_features, valid_features = dataset_split(token_ids)\n",
    "train_labels, valid_labels = dataset_split(sentiments)"
   ]
  },
  {
   "cell_type": "code",
   "execution_count": 21,
   "metadata": {},
   "outputs": [],
   "source": [
    "text_batch, labels = next(iter(dataloader(train_features, train_labels, sequence_length=20, batch_size=64)))\n",
    "model = TextClassifier(len(vocab)+1, 200, 128, 5, dropout=0.)\n",
    "hidden = model.init_hidden(64)\n",
    "logps, hidden = model.forward(text_batch, hidden)"
   ]
  },
  {
   "cell_type": "markdown",
   "metadata": {},
   "source": [
    "### Training\n",
    "It's time to train the neural network!"
   ]
  },
  {
   "cell_type": "code",
   "execution_count": 22,
   "metadata": {},
   "outputs": [
    {
     "data": {
      "text/plain": [
       "TextClassifier(\n",
       "  (embedding): Embedding(4525, 1024, padding_idx=0)\n",
       "  (lstm): LSTM(1024, 512, num_layers=2, dropout=0.2)\n",
       "  (dense): Linear(in_features=512, out_features=5, bias=True)\n",
       "  (softmax): LogSoftmax()\n",
       ")"
      ]
     },
     "execution_count": 22,
     "metadata": {},
     "output_type": "execute_result"
    }
   ],
   "source": [
    "device = torch.device(\"cuda\" if torch.cuda.is_available() else \"cpu\")\n",
    "\n",
    "model = TextClassifier(len(vocab)+1, 1024, 512, 5, lstm_layers=2, dropout=0.2)\n",
    "model.embedding.weight.data.uniform_(-1, 1)\n",
    "model.to(device)"
   ]
  },
  {
   "cell_type": "code",
   "execution_count": 26,
   "metadata": {},
   "outputs": [
    {
     "name": "stdout",
     "output_type": "stream",
     "text": [
      "Starting epoch 1\n",
      "Epoch: 1/4... Step: 100... Loss: 0.694934... Val Loss: 0.730714\n",
      "Epoch: 1/4... Step: 200... Loss: 0.647691... Val Loss: 0.727931\n",
      "Epoch: 1/4... Step: 300... Loss: 0.690756... Val Loss: 0.728820\n",
      "Epoch: 1/4... Step: 400... Loss: 0.736342... Val Loss: 0.720410\n",
      "Epoch: 1/4... Step: 500... Loss: 0.666247... Val Loss: 0.717335\n",
      "Epoch: 1/4... Step: 600... Loss: 0.656109... Val Loss: 0.712756\n",
      "Epoch: 1/4... Step: 700... Loss: 0.658320... Val Loss: 0.710439\n",
      "Epoch: 1/4... Step: 800... Loss: 0.715464... Val Loss: 0.706304\n",
      "Epoch: 1/4... Step: 900... Loss: 0.677827... Val Loss: 0.711243\n",
      "Epoch: 1/4... Step: 1000... Loss: 0.680499... Val Loss: 0.701971\n",
      "Epoch: 1/4... Step: 1100... Loss: 0.610866... Val Loss: 0.702728\n",
      "Epoch: 1/4... Step: 1200... Loss: 0.680658... Val Loss: 0.700447\n",
      "Epoch: 1/4... Step: 1300... Loss: 0.674351... Val Loss: 0.698759\n",
      "Epoch: 1/4... Step: 1400... Loss: 0.639619... Val Loss: 0.694527\n",
      "Starting epoch 2\n",
      "Epoch: 2/4... Step: 100... Loss: 0.662978... Val Loss: 0.715126\n",
      "Epoch: 2/4... Step: 200... Loss: 0.653728... Val Loss: 0.712898\n",
      "Epoch: 2/4... Step: 300... Loss: 0.637572... Val Loss: 0.714220\n",
      "Epoch: 2/4... Step: 400... Loss: 0.639327... Val Loss: 0.710103\n",
      "Epoch: 2/4... Step: 500... Loss: 0.543349... Val Loss: 0.711910\n",
      "Epoch: 2/4... Step: 600... Loss: 0.562607... Val Loss: 0.710699\n",
      "Epoch: 2/4... Step: 700... Loss: 0.654126... Val Loss: 0.706424\n",
      "Epoch: 2/4... Step: 800... Loss: 0.560264... Val Loss: 0.711226\n",
      "Epoch: 2/4... Step: 900... Loss: 0.682479... Val Loss: 0.701700\n",
      "Epoch: 2/4... Step: 1000... Loss: 0.703159... Val Loss: 0.701053\n",
      "Epoch: 2/4... Step: 1100... Loss: 0.617592... Val Loss: 0.703601\n",
      "Epoch: 2/4... Step: 1200... Loss: 0.615365... Val Loss: 0.701828\n",
      "Epoch: 2/4... Step: 1300... Loss: 0.601462... Val Loss: 0.699657\n",
      "Epoch: 2/4... Step: 1400... Loss: 0.635165... Val Loss: 0.697210\n",
      "Starting epoch 3\n",
      "Epoch: 3/4... Step: 100... Loss: 0.618005... Val Loss: 0.738960\n",
      "Epoch: 3/4... Step: 200... Loss: 0.602411... Val Loss: 0.735634\n",
      "Epoch: 3/4... Step: 300... Loss: 0.576079... Val Loss: 0.736867\n",
      "Epoch: 3/4... Step: 400... Loss: 0.598024... Val Loss: 0.733870\n",
      "Epoch: 3/4... Step: 500... Loss: 0.618097... Val Loss: 0.732775\n",
      "Epoch: 3/4... Step: 600... Loss: 0.550824... Val Loss: 0.729397\n",
      "Epoch: 3/4... Step: 700... Loss: 0.618939... Val Loss: 0.723899\n",
      "Epoch: 3/4... Step: 800... Loss: 0.617308... Val Loss: 0.721781\n",
      "Epoch: 3/4... Step: 900... Loss: 0.549804... Val Loss: 0.723098\n",
      "Epoch: 3/4... Step: 1000... Loss: 0.562554... Val Loss: 0.719776\n",
      "Epoch: 3/4... Step: 1100... Loss: 0.551303... Val Loss: 0.721040\n",
      "Epoch: 3/4... Step: 1200... Loss: 0.638181... Val Loss: 0.716778\n",
      "Epoch: 3/4... Step: 1300... Loss: 0.532180... Val Loss: 0.715451\n",
      "Epoch: 3/4... Step: 1400... Loss: 0.569131... Val Loss: 0.718044\n",
      "Starting epoch 4\n",
      "Epoch: 4/4... Step: 100... Loss: 0.509762... Val Loss: 0.770369\n",
      "Epoch: 4/4... Step: 200... Loss: 0.499945... Val Loss: 0.765340\n",
      "Epoch: 4/4... Step: 300... Loss: 0.516661... Val Loss: 0.770054\n",
      "Epoch: 4/4... Step: 400... Loss: 0.515969... Val Loss: 0.770100\n",
      "Epoch: 4/4... Step: 500... Loss: 0.468682... Val Loss: 0.760514\n",
      "Epoch: 4/4... Step: 600... Loss: 0.524148... Val Loss: 0.754249\n",
      "Epoch: 4/4... Step: 700... Loss: 0.519993... Val Loss: 0.745280\n",
      "Epoch: 4/4... Step: 800... Loss: 0.547168... Val Loss: 0.750804\n",
      "Epoch: 4/4... Step: 900... Loss: 0.535731... Val Loss: 0.744788\n",
      "Epoch: 4/4... Step: 1000... Loss: 0.592739... Val Loss: 0.744445\n",
      "Epoch: 4/4... Step: 1100... Loss: 0.563016... Val Loss: 0.744281\n",
      "Epoch: 4/4... Step: 1200... Loss: 0.587915... Val Loss: 0.743566\n",
      "Epoch: 4/4... Step: 1300... Loss: 0.501233... Val Loss: 0.741942\n",
      "Epoch: 4/4... Step: 1400... Loss: 0.559218... Val Loss: 0.736008\n"
     ]
    }
   ],
   "source": [
    "\"\"\"\n",
    "Train your model with dropout. Make sure to clip your gradients.\n",
    "Print the training loss, validation loss, and validation accuracy for every 100 steps.\n",
    "\"\"\"\n",
    "import numpy as np\n",
    "epochs = 4\n",
    "batch_size = 512\n",
    "learning_rate = 0.002\n",
    "clip=5\n",
    "print_every = 100\n",
    "criterion = nn.NLLLoss()\n",
    "optimizer = optim.Adam(model.parameters(), lr=learning_rate)\n",
    "model.train()\n",
    "\n",
    "for epoch in range(epochs):\n",
    "    print('Starting epoch {}'.format(epoch + 1))\n",
    "    \n",
    "    steps = 0\n",
    "    for text_batch, labels in dataloader(\n",
    "            train_features, train_labels, batch_size=batch_size, sequence_length=20, shuffle=True):\n",
    "        steps += 1\n",
    "        hidden = model.init_hidden(labels.shape[0])\n",
    "        \n",
    "        # Set Device\n",
    "        text_batch, labels = text_batch.to(device), labels.to(device)\n",
    "        for each in hidden:\n",
    "            each.to(device)\n",
    "        \n",
    "        # TODO Implement: Train Model\n",
    "        #zeroo acc gradients\n",
    "        model.zero_grad()\n",
    "        #output from model\n",
    "        log_probs, hidden = model(text_batch, hidden)\n",
    "        \n",
    "        # calculate the loss and perform backprop\n",
    "        loss = criterion(log_probs, labels)\n",
    "        loss.backward()\n",
    "        nn.utils.clip_grad_norm_(model.parameters(), clip)\n",
    "        optimizer.step()    \n",
    "        \n",
    "        if steps % print_every == 0:\n",
    "            model.eval()\n",
    "            \n",
    "            # TODO Implement: Print metrics\n",
    "            val_losses = []\n",
    "            \n",
    "            for text_batch, labels in  dataloader(\n",
    "                valid_features, valid_labels, batch_size=batch_size, sequence_length=20, shuffle=True):\n",
    "                \n",
    "                val_hidden = model.init_hidden(labels.shape[0])\n",
    "               \n",
    "                # Set Device\n",
    "                text_batch, labels = text_batch.to(device), labels.to(device)\n",
    "                for each in val_hidden:\n",
    "                    each.to(device)\n",
    "                    \n",
    "                log_probs, val_hidden = model(text_batch, val_hidden)\n",
    "                val_loss = criterion(log_probs, labels)\n",
    "                \n",
    "                val_losses.append(val_loss.item()) \n",
    "            \n",
    "            model.train()\n",
    "            print(\"Epoch: {}/{}...\".format(epoch+1, epochs),\n",
    "                  \"Step: {}...\".format(steps),\n",
    "                  \"Loss: {:.6f}...\".format(loss.item()),\n",
    "                  \"Val Loss: {:.6f}\".format(np.mean(val_losses)))  "
   ]
  },
  {
   "cell_type": "markdown",
   "metadata": {},
   "source": [
    "## Making Predictions\n",
    "### Prediction \n",
    "Okay, now that you have a trained model, try it on some new twits and see if it works appropriately. Remember that for any new text, you'll need to preprocess it first before passing it to the network. Implement the `predict` function to generate the prediction vector from a message."
   ]
  },
  {
   "cell_type": "code",
   "execution_count": 27,
   "metadata": {},
   "outputs": [],
   "source": [
    "def predict(text, model, vocab):\n",
    "    \"\"\" \n",
    "    Make a prediction on a single sentence.\n",
    "\n",
    "    Parameters\n",
    "    ----------\n",
    "        text : The string to make a prediction on.\n",
    "        model : The model to use for making the prediction.\n",
    "        vocab : Dictionary for word to word ids. The key is the word and the value is the word id.\n",
    "\n",
    "    Returns\n",
    "    -------\n",
    "        pred : Prediction vector\n",
    "    \"\"\"    \n",
    "    \n",
    "    # TODO Implement\n",
    "    model.eval()\n",
    "    tokens = preprocess(text)\n",
    "    \n",
    "    # Filter non-vocab words\n",
    "    tokens = [t for t in tokens if t in vocab]\n",
    "    # Convert words to ids\n",
    "    tokens = [vocab[t] for t in tokens]\n",
    "        \n",
    "    # Adding a batch dimension\n",
    "    text_input = torch.from_numpy(np.asarray(torch.FloatTensor(tokens).view(-1,1)))\n",
    "    # Get the NN output\n",
    "    hidden = model.init_hidden(1)\n",
    "    logps, _ = model.forward(text_input, hidden)\n",
    "    # Take the exponent of the NN output to get a range of 0 to 1 for each label.\n",
    "    pred = torch.exp(logps)\n",
    "    \n",
    "    return pred"
   ]
  },
  {
   "cell_type": "code",
   "execution_count": 28,
   "metadata": {},
   "outputs": [
    {
     "data": {
      "text/plain": [
       "tensor([[ 0.0001,  0.0155,  0.0060,  0.9516,  0.0269]])"
      ]
     },
     "execution_count": 28,
     "metadata": {},
     "output_type": "execute_result"
    }
   ],
   "source": [
    "text = \"Google is working on self driving cars, I'm bullish on $goog\"\n",
    "model.eval()\n",
    "model.to(\"cpu\")\n",
    "predict(text, model, vocab)"
   ]
  },
  {
   "cell_type": "markdown",
   "metadata": {},
   "source": [
    "### Questions: What is the prediction of the model? What is the uncertainty of the prediction?\n",
    "** TODO: Answer Question**\n",
    "this model is predicting the fourth label with 95% certainty"
   ]
  },
  {
   "cell_type": "markdown",
   "metadata": {},
   "source": [
    "Now we have a trained model and we can make predictions. We can use this model to track the sentiments of various stocks by predicting the sentiments of twits as they are coming in. Now we have a stream of twits. For each of those twits, pull out the stocks mentioned in them and keep track of the sentiments. Remember that in the twits, ticker symbols are encoded with a dollar sign as the first character, all caps, and 2-4 letters, like $AAPL. Ideally, you'd want to track the sentiments of the stocks in your universe and use this as a signal in your larger model(s).\n",
    "\n",
    "## Testing\n",
    "### Load the Data "
   ]
  },
  {
   "cell_type": "code",
   "execution_count": 29,
   "metadata": {},
   "outputs": [],
   "source": [
    "with open(os.path.join('..', '..', 'data', 'project_6_stocktwits', 'test_twits.json'), 'r') as f:\n",
    "    test_data = json.load(f)"
   ]
  },
  {
   "cell_type": "markdown",
   "metadata": {},
   "source": [
    "### Twit Stream"
   ]
  },
  {
   "cell_type": "code",
   "execution_count": 30,
   "metadata": {},
   "outputs": [
    {
     "data": {
      "text/plain": [
       "{'message_body': '$JWN has moved -1.69% on 10-31. Check out the movement and peers at  https://dividendbot.com?s=JWN',\n",
       " 'timestamp': '2018-11-01T00:00:05Z'}"
      ]
     },
     "execution_count": 30,
     "metadata": {},
     "output_type": "execute_result"
    }
   ],
   "source": [
    "def twit_stream():\n",
    "    for twit in test_data['data']:\n",
    "        yield twit\n",
    "\n",
    "next(twit_stream())"
   ]
  },
  {
   "cell_type": "markdown",
   "metadata": {},
   "source": [
    "Using the `prediction` function, let's apply it to a stream of twits."
   ]
  },
  {
   "cell_type": "code",
   "execution_count": 31,
   "metadata": {},
   "outputs": [],
   "source": [
    "def score_twits(stream, model, vocab, universe):\n",
    "    \"\"\" \n",
    "    Given a stream of twits and a universe of tickers, return sentiment scores for tickers in the universe.\n",
    "    \"\"\"\n",
    "    for twit in stream:\n",
    "\n",
    "        # Get the message text\n",
    "        text = twit['message_body']\n",
    "        symbols = re.findall('\\$[A-Z]{2,4}', text)\n",
    "        score = predict(text, model, vocab)\n",
    "\n",
    "        for symbol in symbols:\n",
    "            if symbol in universe:\n",
    "                yield {'symbol': symbol, 'score': score, 'timestamp': twit['timestamp']}"
   ]
  },
  {
   "cell_type": "code",
   "execution_count": 32,
   "metadata": {},
   "outputs": [
    {
     "data": {
      "text/plain": [
       "{'symbol': '$AAPL',\n",
       " 'score': tensor([[ 0.1968,  0.0655,  0.1223,  0.1824,  0.4330]]),\n",
       " 'timestamp': '2018-11-01T00:00:18Z'}"
      ]
     },
     "execution_count": 32,
     "metadata": {},
     "output_type": "execute_result"
    }
   ],
   "source": [
    "universe = {'$BBRY', '$AAPL', '$AMZN', '$BABA', '$YHOO', '$LQMT', '$FB', '$GOOG', '$BBBY', '$JNUG', '$SBUX', '$MU'}\n",
    "score_stream = score_twits(twit_stream(), model, vocab, universe)\n",
    "\n",
    "next(score_stream)"
   ]
  },
  {
   "cell_type": "markdown",
   "metadata": {},
   "source": [
    "That's it. You have successfully built a model for sentiment analysis! "
   ]
  },
  {
   "cell_type": "markdown",
   "metadata": {},
   "source": [
    "## Submission\n",
    "Now that you're done with the project, it's time to submit it. Click the submit button in the bottom right. One of our reviewers will give you feedback on your project with a pass or not passed grade. You can continue to the next section while you wait for feedback."
   ]
  }
 ],
 "metadata": {
  "kernelspec": {
   "display_name": "Python 3",
   "language": "python",
   "name": "python3"
  },
  "language_info": {
   "codemirror_mode": {
    "name": "ipython",
    "version": 3
   },
   "file_extension": ".py",
   "mimetype": "text/x-python",
   "name": "python",
   "nbconvert_exporter": "python",
   "pygments_lexer": "ipython3",
   "version": "3.6.3"
  }
 },
 "nbformat": 4,
 "nbformat_minor": 2
}
